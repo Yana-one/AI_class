{
 "cells": [
  {
   "cell_type": "code",
   "execution_count": 9,
   "id": "35d80203-288f-4349-8142-70ee49a77bf5",
   "metadata": {},
   "outputs": [],
   "source": [
    "# 딥러닝 기반 와인 데이터 분류 (Wine.csv from GitHub)\n",
    "\n",
    "import numpy as np\n",
    "import pandas as pd\n",
    "from sklearn.model_selection import train_test_split\n",
    "from sklearn.preprocessing import StandardScaler\n",
    "from sklearn.metrics import classification_report, confusion_matrix\n",
    "import tensorflow as tf\n",
    "from tensorflow.keras.models import Sequential\n",
    "from tensorflow.keras.layers import Dense, Dropout\n",
    "from tensorflow.keras.callbacks import EarlyStopping"
   ]
  },
  {
   "cell_type": "code",
   "execution_count": 11,
   "id": "4f53a085-0161-449f-b3f6-8854bee7427e",
   "metadata": {},
   "outputs": [
    {
     "name": "stdout",
     "output_type": "stream",
     "text": [
      "✅ 데이터 로딩 완료\n",
      "   Wine  Alcohol  Malic.acid   Ash   Acl   Mg  Phenols  Flavanoids  \\\n",
      "0     1    14.23        1.71  2.43  15.6  127     2.80        3.06   \n",
      "1     1    13.20        1.78  2.14  11.2  100     2.65        2.76   \n",
      "2     1    13.16        2.36  2.67  18.6  101     2.80        3.24   \n",
      "3     1    14.37        1.95  2.50  16.8  113     3.85        3.49   \n",
      "4     1    13.24        2.59  2.87  21.0  118     2.80        2.69   \n",
      "\n",
      "   Nonflavanoid.phenols  Proanth  Color.int   Hue    OD  Proline  \n",
      "0                  0.28     2.29       5.64  1.04  3.92     1065  \n",
      "1                  0.26     1.28       4.38  1.05  3.40     1050  \n",
      "2                  0.30     2.81       5.68  1.03  3.17     1185  \n",
      "3                  0.24     2.18       7.80  0.86  3.45     1480  \n",
      "4                  0.39     1.82       4.32  1.04  2.93      735  \n"
     ]
    }
   ],
   "source": [
    "# 1. 데이터 로딩\n",
    "url = \"https://raw.githubusercontent.com/MyungKyuYi/AI-class/refs/heads/main/wine.csv\"\n",
    "df = pd.read_csv(url)\n",
    "print(\"✅ 데이터 로딩 완료\")\n",
    "print(df.head())"
   ]
  },
  {
   "cell_type": "code",
   "execution_count": 13,
   "id": "ee4ca390-ffea-421d-a7e2-6f3b7d41dd39",
   "metadata": {},
   "outputs": [],
   "source": [
    "# 2. X, y 분리 (Wine 컬럼이 target이고, 1~3 → 0~2로 변환 필요)\n",
    "X = df.drop(columns=[\"Wine\"])\n",
    "y = tf.keras.utils.to_categorical(df[\"Wine\"] - 1, num_classes=3)\n"
   ]
  },
  {
   "cell_type": "code",
   "execution_count": 15,
   "id": "d4823b5d-739a-4f2e-a2be-47c13022b99d",
   "metadata": {},
   "outputs": [],
   "source": [
    "# 3. 데이터 분할 및 스케일링\n",
    "X_train, X_test, y_train, y_test = train_test_split(X, y, test_size=0.2, random_state=42)\n",
    "scaler = StandardScaler()\n",
    "X_train = scaler.fit_transform(X_train)\n",
    "X_test = scaler.transform(X_test)"
   ]
  },
  {
   "cell_type": "code",
   "execution_count": 17,
   "id": "f766d6cd-fd0b-45b3-8ac6-aa0cd6de6a2e",
   "metadata": {},
   "outputs": [
    {
     "name": "stderr",
     "output_type": "stream",
     "text": [
      "/opt/anaconda3/lib/python3.12/site-packages/keras/src/layers/core/dense.py:87: UserWarning: Do not pass an `input_shape`/`input_dim` argument to a layer. When using Sequential models, prefer using an `Input(shape)` object as the first layer in the model instead.\n",
      "  super().__init__(activity_regularizer=activity_regularizer, **kwargs)\n"
     ]
    }
   ],
   "source": [
    "# 4. 모델 구성(하이퍼파라미터 튜닝)\n",
    "model = Sequential()\n",
    "model.add(Dense(32, activation='relu', input_shape=(X_train.shape[1],)))\n",
    "model.add(Dropout(0.1))  # 과적합 방지용\n",
    "model.add(Dense(16, activation='relu'))\n",
    "model.add(Dense(3, activation='softmax'))  # 다중 클래스 분류\n"
   ]
  },
  {
   "cell_type": "code",
   "execution_count": 19,
   "id": "59567ea3-402c-427e-9967-7f073d3b9495",
   "metadata": {},
   "outputs": [],
   "source": [
    "# 5. 컴파일\n",
    "model.compile(optimizer='adam', loss='categorical_crossentropy', metrics=['accuracy'])"
   ]
  },
  {
   "cell_type": "code",
   "execution_count": 21,
   "id": "1df025d6-d074-4896-845a-e26bbe427902",
   "metadata": {},
   "outputs": [],
   "source": [
    "# 6. 조기 종료 콜백 설정\n",
    "early_stopping = EarlyStopping(monitor='val_loss', patience=5, restore_best_weights=True)"
   ]
  },
  {
   "cell_type": "code",
   "execution_count": 23,
   "id": "93a60aa0-14c6-4609-b80a-621c3ba0c75d",
   "metadata": {},
   "outputs": [
    {
     "name": "stdout",
     "output_type": "stream",
     "text": [
      "Epoch 1/30\n"
     ]
    },
    {
     "name": "stderr",
     "output_type": "stream",
     "text": [
      "2025-03-27 21:16:37.452779: E tensorflow/core/grappler/optimizers/meta_optimizer.cc:961] PluggableGraphOptimizer failed: INVALID_ARGUMENT: Failed to deserialize the `graph_buf`.\n"
     ]
    },
    {
     "name": "stdout",
     "output_type": "stream",
     "text": [
      "\u001b[1m16/16\u001b[0m \u001b[32m━━━━━━━━━━━━━━━━━━━━\u001b[0m\u001b[37m\u001b[0m \u001b[1m4s\u001b[0m 147ms/step - accuracy: 0.3041 - loss: 1.1910 - val_accuracy: 0.4667 - val_loss: 1.1492\n",
      "Epoch 2/30\n",
      "\u001b[1m16/16\u001b[0m \u001b[32m━━━━━━━━━━━━━━━━━━━━\u001b[0m\u001b[37m\u001b[0m \u001b[1m1s\u001b[0m 41ms/step - accuracy: 0.5455 - loss: 0.9841 - val_accuracy: 0.6000 - val_loss: 0.9246\n",
      "Epoch 3/30\n",
      "\u001b[1m16/16\u001b[0m \u001b[32m━━━━━━━━━━━━━━━━━━━━\u001b[0m\u001b[37m\u001b[0m \u001b[1m0s\u001b[0m 25ms/step - accuracy: 0.7907 - loss: 0.8063 - val_accuracy: 0.7333 - val_loss: 0.7676\n",
      "Epoch 4/30\n",
      "\u001b[1m16/16\u001b[0m \u001b[32m━━━━━━━━━━━━━━━━━━━━\u001b[0m\u001b[37m\u001b[0m \u001b[1m0s\u001b[0m 29ms/step - accuracy: 0.8697 - loss: 0.6509 - val_accuracy: 0.8667 - val_loss: 0.6048\n",
      "Epoch 5/30\n",
      "\u001b[1m16/16\u001b[0m \u001b[32m━━━━━━━━━━━━━━━━━━━━\u001b[0m\u001b[37m\u001b[0m \u001b[1m0s\u001b[0m 30ms/step - accuracy: 0.8890 - loss: 0.5221 - val_accuracy: 0.9333 - val_loss: 0.4694\n",
      "Epoch 6/30\n",
      "\u001b[1m16/16\u001b[0m \u001b[32m━━━━━━━━━━━━━━━━━━━━\u001b[0m\u001b[37m\u001b[0m \u001b[1m0s\u001b[0m 30ms/step - accuracy: 0.9050 - loss: 0.4405 - val_accuracy: 0.9333 - val_loss: 0.3754\n",
      "Epoch 7/30\n",
      "\u001b[1m16/16\u001b[0m \u001b[32m━━━━━━━━━━━━━━━━━━━━\u001b[0m\u001b[37m\u001b[0m \u001b[1m0s\u001b[0m 27ms/step - accuracy: 0.9514 - loss: 0.3490 - val_accuracy: 0.9333 - val_loss: 0.2975\n",
      "Epoch 8/30\n",
      "\u001b[1m16/16\u001b[0m \u001b[32m━━━━━━━━━━━━━━━━━━━━\u001b[0m\u001b[37m\u001b[0m \u001b[1m0s\u001b[0m 25ms/step - accuracy: 0.9707 - loss: 0.2765 - val_accuracy: 0.9333 - val_loss: 0.2369\n",
      "Epoch 9/30\n",
      "\u001b[1m16/16\u001b[0m \u001b[32m━━━━━━━━━━━━━━━━━━━━\u001b[0m\u001b[37m\u001b[0m \u001b[1m0s\u001b[0m 26ms/step - accuracy: 0.9487 - loss: 0.2116 - val_accuracy: 0.9333 - val_loss: 0.2047\n",
      "Epoch 10/30\n",
      "\u001b[1m16/16\u001b[0m \u001b[32m━━━━━━━━━━━━━━━━━━━━\u001b[0m\u001b[37m\u001b[0m \u001b[1m0s\u001b[0m 26ms/step - accuracy: 0.9678 - loss: 0.1748 - val_accuracy: 0.9333 - val_loss: 0.1705\n",
      "Epoch 11/30\n",
      "\u001b[1m16/16\u001b[0m \u001b[32m━━━━━━━━━━━━━━━━━━━━\u001b[0m\u001b[37m\u001b[0m \u001b[1m0s\u001b[0m 28ms/step - accuracy: 0.9576 - loss: 0.1659 - val_accuracy: 0.9333 - val_loss: 0.1459\n",
      "Epoch 12/30\n",
      "\u001b[1m16/16\u001b[0m \u001b[32m━━━━━━━━━━━━━━━━━━━━\u001b[0m\u001b[37m\u001b[0m \u001b[1m0s\u001b[0m 31ms/step - accuracy: 0.9767 - loss: 0.1589 - val_accuracy: 1.0000 - val_loss: 0.1225\n",
      "Epoch 13/30\n",
      "\u001b[1m16/16\u001b[0m \u001b[32m━━━━━━━━━━━━━━━━━━━━\u001b[0m\u001b[37m\u001b[0m \u001b[1m0s\u001b[0m 28ms/step - accuracy: 0.9790 - loss: 0.1201 - val_accuracy: 1.0000 - val_loss: 0.1111\n",
      "Epoch 14/30\n",
      "\u001b[1m16/16\u001b[0m \u001b[32m━━━━━━━━━━━━━━━━━━━━\u001b[0m\u001b[37m\u001b[0m \u001b[1m0s\u001b[0m 27ms/step - accuracy: 0.9986 - loss: 0.0858 - val_accuracy: 1.0000 - val_loss: 0.1008\n",
      "Epoch 15/30\n",
      "\u001b[1m16/16\u001b[0m \u001b[32m━━━━━━━━━━━━━━━━━━━━\u001b[0m\u001b[37m\u001b[0m \u001b[1m0s\u001b[0m 28ms/step - accuracy: 0.9922 - loss: 0.0809 - val_accuracy: 1.0000 - val_loss: 0.0903\n",
      "Epoch 16/30\n",
      "\u001b[1m16/16\u001b[0m \u001b[32m━━━━━━━━━━━━━━━━━━━━\u001b[0m\u001b[37m\u001b[0m \u001b[1m0s\u001b[0m 28ms/step - accuracy: 0.9869 - loss: 0.0799 - val_accuracy: 1.0000 - val_loss: 0.0771\n",
      "Epoch 17/30\n",
      "\u001b[1m16/16\u001b[0m \u001b[32m━━━━━━━━━━━━━━━━━━━━\u001b[0m\u001b[37m\u001b[0m \u001b[1m1s\u001b[0m 31ms/step - accuracy: 0.9832 - loss: 0.0886 - val_accuracy: 1.0000 - val_loss: 0.0685\n",
      "Epoch 18/30\n",
      "\u001b[1m16/16\u001b[0m \u001b[32m━━━━━━━━━━━━━━━━━━━━\u001b[0m\u001b[37m\u001b[0m \u001b[1m0s\u001b[0m 28ms/step - accuracy: 0.9937 - loss: 0.0630 - val_accuracy: 1.0000 - val_loss: 0.0655\n",
      "Epoch 19/30\n",
      "\u001b[1m16/16\u001b[0m \u001b[32m━━━━━━━━━━━━━━━━━━━━\u001b[0m\u001b[37m\u001b[0m \u001b[1m0s\u001b[0m 27ms/step - accuracy: 0.9677 - loss: 0.0761 - val_accuracy: 1.0000 - val_loss: 0.0662\n",
      "Epoch 20/30\n",
      "\u001b[1m16/16\u001b[0m \u001b[32m━━━━━━━━━━━━━━━━━━━━\u001b[0m\u001b[37m\u001b[0m \u001b[1m0s\u001b[0m 28ms/step - accuracy: 0.9747 - loss: 0.0836 - val_accuracy: 1.0000 - val_loss: 0.0577\n",
      "Epoch 21/30\n",
      "\u001b[1m16/16\u001b[0m \u001b[32m━━━━━━━━━━━━━━━━━━━━\u001b[0m\u001b[37m\u001b[0m \u001b[1m0s\u001b[0m 26ms/step - accuracy: 0.9927 - loss: 0.0452 - val_accuracy: 1.0000 - val_loss: 0.0560\n",
      "Epoch 22/30\n",
      "\u001b[1m16/16\u001b[0m \u001b[32m━━━━━━━━━━━━━━━━━━━━\u001b[0m\u001b[37m\u001b[0m \u001b[1m0s\u001b[0m 26ms/step - accuracy: 0.9900 - loss: 0.0488 - val_accuracy: 1.0000 - val_loss: 0.0573\n",
      "Epoch 23/30\n",
      "\u001b[1m16/16\u001b[0m \u001b[32m━━━━━━━━━━━━━━━━━━━━\u001b[0m\u001b[37m\u001b[0m \u001b[1m0s\u001b[0m 28ms/step - accuracy: 0.9937 - loss: 0.0363 - val_accuracy: 1.0000 - val_loss: 0.0560\n",
      "Epoch 24/30\n",
      "\u001b[1m16/16\u001b[0m \u001b[32m━━━━━━━━━━━━━━━━━━━━\u001b[0m\u001b[37m\u001b[0m \u001b[1m1s\u001b[0m 31ms/step - accuracy: 1.0000 - loss: 0.0305 - val_accuracy: 1.0000 - val_loss: 0.0525\n",
      "Epoch 25/30\n",
      "\u001b[1m16/16\u001b[0m \u001b[32m━━━━━━━━━━━━━━━━━━━━\u001b[0m\u001b[37m\u001b[0m \u001b[1m0s\u001b[0m 28ms/step - accuracy: 0.9962 - loss: 0.0519 - val_accuracy: 1.0000 - val_loss: 0.0490\n",
      "Epoch 26/30\n",
      "\u001b[1m16/16\u001b[0m \u001b[32m━━━━━━━━━━━━━━━━━━━━\u001b[0m\u001b[37m\u001b[0m \u001b[1m0s\u001b[0m 27ms/step - accuracy: 0.9882 - loss: 0.0546 - val_accuracy: 1.0000 - val_loss: 0.0380\n",
      "Epoch 27/30\n",
      "\u001b[1m16/16\u001b[0m \u001b[32m━━━━━━━━━━━━━━━━━━━━\u001b[0m\u001b[37m\u001b[0m \u001b[1m0s\u001b[0m 27ms/step - accuracy: 1.0000 - loss: 0.0359 - val_accuracy: 1.0000 - val_loss: 0.0357\n",
      "Epoch 28/30\n",
      "\u001b[1m16/16\u001b[0m \u001b[32m━━━━━━━━━━━━━━━━━━━━\u001b[0m\u001b[37m\u001b[0m \u001b[1m0s\u001b[0m 27ms/step - accuracy: 0.9947 - loss: 0.0356 - val_accuracy: 1.0000 - val_loss: 0.0407\n",
      "Epoch 29/30\n",
      "\u001b[1m16/16\u001b[0m \u001b[32m━━━━━━━━━━━━━━━━━━━━\u001b[0m\u001b[37m\u001b[0m \u001b[1m0s\u001b[0m 30ms/step - accuracy: 1.0000 - loss: 0.0232 - val_accuracy: 1.0000 - val_loss: 0.0448\n",
      "Epoch 30/30\n",
      "\u001b[1m16/16\u001b[0m \u001b[32m━━━━━━━━━━━━━━━━━━━━\u001b[0m\u001b[37m\u001b[0m \u001b[1m0s\u001b[0m 30ms/step - accuracy: 0.9969 - loss: 0.0457 - val_accuracy: 1.0000 - val_loss: 0.0363\n"
     ]
    }
   ],
   "source": [
    "# 7. 학습\n",
    "history = model.fit(\n",
    "    X_train, y_train,\n",
    "    validation_split=0.1,   # 학습데이터 중 10%를 검증용으로 사용\n",
    "    epochs=30,              # 안정성 위해 줄임\n",
    "    batch_size=8,           # 가벼운 배치\n",
    "    callbacks=[early_stopping],\n",
    "    verbose=1\n",
    ")"
   ]
  },
  {
   "cell_type": "code",
   "execution_count": 25,
   "id": "03453287-347d-4ffb-bf05-e6d816bea7c9",
   "metadata": {},
   "outputs": [
    {
     "name": "stdout",
     "output_type": "stream",
     "text": [
      "\u001b[1m2/2\u001b[0m \u001b[32m━━━━━━━━━━━━━━━━━━━━\u001b[0m\u001b[37m\u001b[0m \u001b[1m1s\u001b[0m 614ms/step - accuracy: 1.0000 - loss: 0.0183\n",
      "\n",
      "🧪 Test Accuracy: 1.0000\n"
     ]
    }
   ],
   "source": [
    "# 8. 평가\n",
    "loss, accuracy = model.evaluate(X_test, y_test)\n",
    "print(f\"\\n🧪 Test Accuracy: {accuracy:.4f}\")"
   ]
  },
  {
   "cell_type": "code",
   "execution_count": 27,
   "id": "58a1645c-f143-41de-bda8-0d52e26c4a8d",
   "metadata": {},
   "outputs": [
    {
     "name": "stdout",
     "output_type": "stream",
     "text": [
      "\u001b[1m2/2\u001b[0m \u001b[32m━━━━━━━━━━━━━━━━━━━━\u001b[0m\u001b[37m\u001b[0m \u001b[1m0s\u001b[0m 62ms/step\n",
      "\n",
      "📊 Confusion Matrix:\n",
      "[[14  0  0]\n",
      " [ 0 14  0]\n",
      " [ 0  0  8]]\n",
      "\n",
      "📋 Classification Report:\n",
      "              precision    recall  f1-score   support\n",
      "\n",
      "           0       1.00      1.00      1.00        14\n",
      "           1       1.00      1.00      1.00        14\n",
      "           2       1.00      1.00      1.00         8\n",
      "\n",
      "    accuracy                           1.00        36\n",
      "   macro avg       1.00      1.00      1.00        36\n",
      "weighted avg       1.00      1.00      1.00        36\n",
      "\n"
     ]
    }
   ],
   "source": [
    "# 9. 예측 결과\n",
    "y_pred = model.predict(X_test)\n",
    "y_pred_classes = np.argmax(y_pred, axis=1)\n",
    "y_true = np.argmax(y_test, axis=1)\n",
    "\n",
    "print(\"\\n📊 Confusion Matrix:\")\n",
    "print(confusion_matrix(y_true, y_pred_classes))\n",
    "\n",
    "print(\"\\n📋 Classification Report:\")\n",
    "print(classification_report(y_true, y_pred_classes))"
   ]
  },
  {
   "cell_type": "code",
   "execution_count": null,
   "id": "196f9c85-932e-498e-bd79-c1046149a5c5",
   "metadata": {},
   "outputs": [],
   "source": []
  }
 ],
 "metadata": {
  "kernelspec": {
   "display_name": "Python [conda env:base] *",
   "language": "python",
   "name": "conda-base-py"
  },
  "language_info": {
   "codemirror_mode": {
    "name": "ipython",
    "version": 3
   },
   "file_extension": ".py",
   "mimetype": "text/x-python",
   "name": "python",
   "nbconvert_exporter": "python",
   "pygments_lexer": "ipython3",
   "version": "3.12.2"
  }
 },
 "nbformat": 4,
 "nbformat_minor": 5
}
