{
 "cells": [
  {
   "cell_type": "code",
   "execution_count": 2,
   "id": "b21bca70-0b21-4330-bd0d-086e49f1fe46",
   "metadata": {},
   "outputs": [],
   "source": [
    "import pandas as pd\n",
    "import numpy as np\n",
    "import matplotlib.pyplot as plt\n",
    "import seaborn as sns"
   ]
  },
  {
   "cell_type": "code",
   "execution_count": 4,
   "id": "7148a422-1be7-4d07-95f3-09c297671f21",
   "metadata": {},
   "outputs": [
    {
     "name": "stdout",
     "output_type": "stream",
     "text": [
      "=== 데이터 로딩 완료 ===\n",
      "   Wine  Alcohol  Malic.acid   Ash   Acl   Mg  Phenols  Flavanoids  \\\n",
      "0     1    14.23        1.71  2.43  15.6  127     2.80        3.06   \n",
      "1     1    13.20        1.78  2.14  11.2  100     2.65        2.76   \n",
      "2     1    13.16        2.36  2.67  18.6  101     2.80        3.24   \n",
      "3     1    14.37        1.95  2.50  16.8  113     3.85        3.49   \n",
      "4     1    13.24        2.59  2.87  21.0  118     2.80        2.69   \n",
      "\n",
      "   Nonflavanoid.phenols  Proanth  Color.int   Hue    OD  Proline  \n",
      "0                  0.28     2.29       5.64  1.04  3.92     1065  \n",
      "1                  0.26     1.28       4.38  1.05  3.40     1050  \n",
      "2                  0.30     2.81       5.68  1.03  3.17     1185  \n",
      "3                  0.24     2.18       7.80  0.86  3.45     1480  \n",
      "4                  0.39     1.82       4.32  1.04  2.93      735  \n"
     ]
    }
   ],
   "source": [
    "# 1. 데이터 로딩\n",
    "url = \"https://raw.githubusercontent.com/MyungKyuYi/AI-class/refs/heads/main/wine.csv\"\n",
    "df = pd.read_csv(url)\n",
    "print(\"=== 데이터 로딩 완료 ===\")\n",
    "print(df.head())"
   ]
  },
  {
   "cell_type": "code",
   "execution_count": 6,
   "id": "c8eca5ea-94fb-4ffa-9a77-7da916456bd2",
   "metadata": {},
   "outputs": [
    {
     "name": "stdout",
     "output_type": "stream",
     "text": [
      "=== 결측치 확인 ===\n",
      "Wine                    0\n",
      "Alcohol                 0\n",
      "Malic.acid              0\n",
      "Ash                     0\n",
      "Acl                     0\n",
      "Mg                      0\n",
      "Phenols                 0\n",
      "Flavanoids              0\n",
      "Nonflavanoid.phenols    0\n",
      "Proanth                 0\n",
      "Color.int               0\n",
      "Hue                     0\n",
      "OD                      0\n",
      "Proline                 0\n",
      "dtype: int64\n"
     ]
    }
   ],
   "source": [
    "# 2. 결측치 확인\n",
    "print(\"=== 결측치 확인 ===\")\n",
    "print(df.isnull().sum())"
   ]
  },
  {
   "cell_type": "code",
   "execution_count": 8,
   "id": "2ec96594-28f0-442d-b133-b84cf42d7270",
   "metadata": {},
   "outputs": [
    {
     "name": "stdout",
     "output_type": "stream",
     "text": [
      "=== 결측치 처리 후 ===\n",
      "Wine                    0\n",
      "Alcohol                 0\n",
      "Malic.acid              0\n",
      "Ash                     0\n",
      "Acl                     0\n",
      "Mg                      0\n",
      "Phenols                 0\n",
      "Flavanoids              0\n",
      "Nonflavanoid.phenols    0\n",
      "Proanth                 0\n",
      "Color.int               0\n",
      "Hue                     0\n",
      "OD                      0\n",
      "Proline                 0\n",
      "dtype: int64\n"
     ]
    }
   ],
   "source": [
    "# 3. 결측치 처리\n",
    "# 'Alcohol' 컬럼의 결측치를 평균값으로 채우기\n",
    "mean_alcohol = df['Alcohol'].mean()\n",
    "df['Alcohol'] = df['Alcohol'].fillna(mean_alcohol)\n",
    "df = df.dropna()  # 'Alcohol' 외의 다른 컬럼에 남은 결측치가 있는 행 제거\n",
    "print(\"=== 결측치 처리 후 ===\")\n",
    "print(df.isnull().sum())"
   ]
  },
  {
   "cell_type": "code",
   "execution_count": 10,
   "id": "b729e4c4-bdf4-4a04-9e05-b5f083f0b11b",
   "metadata": {},
   "outputs": [
    {
     "name": "stdout",
     "output_type": "stream",
     "text": [
      "레이블 분포:\n",
      "Wine\n",
      "2    71\n",
      "1    59\n",
      "3    48\n",
      "Name: count, dtype: int64\n"
     ]
    },
    {
     "data": {
      "image/png": "[encoded data removed]",
      "text/plain": [
       "<Figure size 800x600 with 1 Axes>"
      ]
     },
     "metadata": {},
     "output_type": "display_data"
    }
   ],
   "source": [
    "# 4. 레이블 확인 (불균형 데이터 확인)\n",
    "# 'Wine' 컬럼의 각 레이블별 개수를 계산\n",
    "label_counts = df['Wine'].value_counts()\n",
    "print(\"레이블 분포:\")\n",
    "print(label_counts)\n",
    "\n",
    "# 시각화를 통한 분포 확인\n",
    "import matplotlib.pyplot as plt\n",
    "\n",
    "plt.figure(figsize=(8, 6))\n",
    "plt.bar(label_counts.index.astype(str), label_counts.values)\n",
    "plt.xlabel('Wine Label')\n",
    "plt.ylabel('Count')\n",
    "plt.title('Wine Dataset Label Distribution')\n",
    "plt.show()"
   ]
  },
  {
   "cell_type": "code",
   "execution_count": 12,
   "id": "64b390b5-ce16-439a-b480-e14fd4aee6b9",
   "metadata": {},
   "outputs": [
    {
     "name": "stdout",
     "output_type": "stream",
     "text": [
      "불필요한 컬럼 제거 후 컬럼 목록:\n",
      "Index(['Wine', 'Alcohol', 'Malic.acid', 'Ash', 'Acl', 'Mg', 'Phenols',\n",
      "       'Flavanoids', 'Color.int', 'Hue', 'OD', 'Proline'],\n",
      "      dtype='object')\n"
     ]
    }
   ],
   "source": [
    "# 5. 불필요한 컬럼 제거\n",
    "# 예를 들어, 분석에 필요하지 않은 'Nonflavanoid.phenols'와 'Proanth' 컬럼을 제거\n",
    "cols_to_drop = ['Nonflavanoid.phenols', 'Proanth']\n",
    "df = df.drop(columns=cols_to_drop)\n",
    "\n",
    "print(\"불필요한 컬럼 제거 후 컬럼 목록:\")\n",
    "print(df.columns)"
   ]
  },
  {
   "cell_type": "code",
   "execution_count": 38,
   "id": "60f32cf8-86b2-40ce-a125-5d31ebbba172",
   "metadata": {},
   "outputs": [
    {
     "name": "stdout",
     "output_type": "stream",
     "text": [
      "One-Hot 인코딩 후 데이터프레임의 일부:\n",
      "   Alcohol  Malic.acid   Ash   Acl   Mg  Phenols  Flavanoids  Color.int   Hue  \\\n",
      "0    14.23        1.71  2.43  15.6  127     2.80        3.06       5.64  1.04   \n",
      "1    13.20        1.78  2.14  11.2  100     2.65        2.76       4.38  1.05   \n",
      "2    13.16        2.36  2.67  18.6  101     2.80        3.24       5.68  1.03   \n",
      "3    14.37        1.95  2.50  16.8  113     3.85        3.49       7.80  0.86   \n",
      "4    13.24        2.59  2.87  21.0  118     2.80        2.69       4.32  1.04   \n",
      "\n",
      "     OD  Proline  Wine_0  Wine_1  Wine_2  \n",
      "0  3.92     1065    True   False   False  \n",
      "1  3.40     1050    True   False   False  \n",
      "2  3.17     1185    True   False   False  \n",
      "3  3.45     1480    True   False   False  \n",
      "4  2.93      735    True   False   False  \n"
     ]
    }
   ],
   "source": [
    "# 예시: 다른 범주형 변수(예: 'Country', 'Category' 등)에 대해 one-hot 인코딩 적용\n",
    "df_encoded = pd.get_dummies(df, drop_first=True)\n",
    "\n",
    "# 혹시 남아 있을 수 있는 결측치는 0으로 채워줍니다.\n",
    "df_encoded = df_encoded.fillna(0)\n",
    "print(\"One-Hot 인코딩 후 데이터프레임의 일부:\")\n",
    "print(df_encoded.head())"
   ]
  },
  {
   "cell_type": "code",
   "execution_count": 46,
   "id": "39e351a7-16f0-4913-ae2e-ae80c072c23a",
   "metadata": {},
   "outputs": [
    {
     "name": "stdout",
     "output_type": "stream",
     "text": [
      "=== 분류 모델 평가 결과 ===\n",
      "Random Forest: Accuracy = 1.0000\n",
      "Confusion Matrix:\n",
      "[[14  0  0]\n",
      " [ 0 14  0]\n",
      " [ 0  0  8]]\n",
      "\n",
      "\n",
      "Decision Tree: Accuracy = 0.9444\n",
      "Confusion Matrix:\n",
      "[[13  1  0]\n",
      " [ 0 14  0]\n",
      " [ 0  1  7]]\n",
      "\n",
      "\n",
      "Logistic Regression: Accuracy = 0.9722\n",
      "Confusion Matrix:\n",
      "[[13  1  0]\n",
      " [ 0 14  0]\n",
      " [ 0  0  8]]\n",
      "\n",
      "\n",
      "KNN: Accuracy = 0.7222\n",
      "Confusion Matrix:\n",
      "[[12  0  2]\n",
      " [ 0 11  3]\n",
      " [ 2  3  3]]\n",
      "\n",
      "\n",
      "SVM: Accuracy = 0.7778\n",
      "Confusion Matrix:\n",
      "[[14  0  0]\n",
      " [ 0 10  4]\n",
      " [ 0  4  4]]\n",
      "\n",
      "\n"
     ]
    },
    {
     "name": "stderr",
     "output_type": "stream",
     "text": [
      "/opt/anaconda3/lib/python3.12/site-packages/sklearn/linear_model/_logistic.py:469: ConvergenceWarning: lbfgs failed to converge (status=1):\n",
      "STOP: TOTAL NO. of ITERATIONS REACHED LIMIT.\n",
      "\n",
      "Increase the number of iterations (max_iter) or scale the data as shown in:\n",
      "    https://scikit-learn.org/stable/modules/preprocessing.html\n",
      "Please also refer to the documentation for alternative solver options:\n",
      "    https://scikit-learn.org/stable/modules/linear_model.html#logistic-regression\n",
      "  n_iter_i = _check_optimize_result(\n"
     ]
    }
   ],
   "source": [
    "import numpy as np\n",
    "from sklearn.model_selection import train_test_split\n",
    "from sklearn.metrics import accuracy_score, confusion_matrix\n",
    "from sklearn.ensemble import RandomForestClassifier\n",
    "from sklearn.tree import DecisionTreeClassifier\n",
    "from sklearn.linear_model import LogisticRegression\n",
    "from sklearn.neighbors import KNeighborsClassifier\n",
    "from sklearn.svm import SVC\n",
    "\n",
    "# 타깃 레이블 추출: one-hot 인코딩된 Wine 컬럼에서 정수형 레이블 생성\n",
    "# 각 행에서 True인 컬럼의 인덱스(0,1,2)를 이용\n",
    "y = np.argmax(df_encoded[['Wine_0', 'Wine_1', 'Wine_2']].values, axis=1)\n",
    "\n",
    "# 특성(feature): Wine 관련 one-hot 컬럼은 타깃으로 사용했으므로 제거\n",
    "X = df_encoded.drop(columns=['Wine_0', 'Wine_1', 'Wine_2'])\n",
    "\n",
    "# 학습/테스트 세트 분할 (80% 학습, 20% 테스트)\n",
    "X_train, X_test, y_train, y_test = train_test_split(X, y, test_size=0.2, random_state=42)\n",
    "\n",
    "# 분류 모델 정의\n",
    "models = {\n",
    "    \"Random Forest\": RandomForestClassifier(random_state=42),\n",
    "    \"Decision Tree\": DecisionTreeClassifier(random_state=42),\n",
    "    \"Logistic Regression\": LogisticRegression(max_iter=200, random_state=42),\n",
    "    \"KNN\": KNeighborsClassifier(),\n",
    "    \"SVM\": SVC(random_state=42)\n",
    "}\n",
    "\n",
    "print(\"=== 분류 모델 평가 결과 ===\")\n",
    "for name, model in models.items():\n",
    "    model.fit(X_train, y_train)\n",
    "    y_pred = model.predict(X_test)\n",
    "    acc = accuracy_score(y_test, y_pred)\n",
    "    cm = confusion_matrix(y_test, y_pred)\n",
    "    print(f\"{name}: Accuracy = {acc:.4f}\")\n",
    "    print(\"Confusion Matrix:\")\n",
    "    print(cm)\n",
    "    print(\"\\n\")"
   ]
  },
  {
   "cell_type": "code",
   "execution_count": null,
   "id": "e5765875-cf30-480e-8857-01835337f314",
   "metadata": {},
   "outputs": [],
   "source": []
  }
 ],
 "metadata": {
  "kernelspec": {
   "display_name": "Python [conda env:base] *",
   "language": "python",
   "name": "conda-base-py"
  },
  "language_info": {
   "codemirror_mode": {
    "name": "ipython",
    "version": 3
   },
   "file_extension": ".py",
   "mimetype": "text/x-python",
   "name": "python",
   "nbconvert_exporter": "python",
   "pygments_lexer": "ipython3",
   "version": "3.12.2"
  }
 },
 "nbformat": 4,
 "nbformat_minor": 5
}
