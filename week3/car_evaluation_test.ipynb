{
 "cells": [
  {
   "cell_type": "code",
   "execution_count": 4,
   "id": "2ff47fec-c06d-4a81-ae4f-cfd7498a9108",
   "metadata": {},
   "outputs": [],
   "source": [
    "import pandas as pd\n",
    "import matplotlib.pyplot as plt\n",
    "import seaborn as sns\n",
    "from sklearn.model_selection import train_test_split\n",
    "from sklearn.preprocessing import LabelEncoder\n",
    "from sklearn.metrics import accuracy_score, classification_report\n",
    "from sklearn.ensemble import RandomForestClassifier\n",
    "from sklearn.tree import DecisionTreeClassifier\n",
    "from sklearn.linear_model import LogisticRegression\n",
    "from sklearn.neighbors import KNeighborsClassifier\n",
    "from sklearn.svm import SVC"
   ]
  },
  {
   "cell_type": "code",
   "execution_count": 6,
   "id": "2bdf27cf-4282-4d3f-a5a1-fdd6fea8b08e",
   "metadata": {},
   "outputs": [
    {
     "name": "stdout",
     "output_type": "stream",
     "text": [
      "데이터 샘플:\n",
      "   vhigh vhigh.1  2 2.1  small   low  unacc\n",
      "0  vhigh   vhigh  2   2  small   med  unacc\n",
      "1  vhigh   vhigh  2   2  small  high  unacc\n",
      "2  vhigh   vhigh  2   2    med   low  unacc\n",
      "3  vhigh   vhigh  2   2    med   med  unacc\n",
      "4  vhigh   vhigh  2   2    med  high  unacc\n"
     ]
    }
   ],
   "source": [
    "# 1. 데이터 로딩\n",
    "df = pd.read_csv('/Users/user/Documents/car_evaluation.csv')\n",
    "print(\"데이터 샘플:\")\n",
    "print(df.head())"
   ]
  },
  {
   "cell_type": "code",
   "execution_count": 8,
   "id": "5ab759f1-aec3-4903-b9e2-02675e0001f9",
   "metadata": {},
   "outputs": [
    {
     "name": "stdout",
     "output_type": "stream",
     "text": [
      "\n",
      "결측치 확인:\n",
      "vhigh      0\n",
      "vhigh.1    0\n",
      "2          0\n",
      "2.1        0\n",
      "small      0\n",
      "low        0\n",
      "unacc      0\n",
      "dtype: int64\n"
     ]
    }
   ],
   "source": [
    "# 2. 결측치 확인\n",
    "print(\"\\n결측치 확인:\")\n",
    "print(df.isnull().sum())"
   ]
  },
  {
   "cell_type": "code",
   "execution_count": 11,
   "id": "fc502752-f7ee-4718-9131-6eb36104e22c",
   "metadata": {},
   "outputs": [
    {
     "name": "stdout",
     "output_type": "stream",
     "text": [
      "\n",
      "타깃(label) 분포:\n",
      "unacc\n",
      "unacc    1209\n",
      "acc       384\n",
      "good       69\n",
      "vgood      65\n",
      "Name: count, dtype: int64\n"
     ]
    },
    {
     "data": {
      "image/png": "[encoded data removed]",
      "text/plain": [
       "<Figure size 640x480 with 1 Axes>"
      ]
     },
     "metadata": {},
     "output_type": "display_data"
    }
   ],
   "source": [
    "# 3. 레이블(타깃) 분포 확인\n",
    "print(\"\\n타깃(label) 분포:\")\n",
    "print(df['unacc'].value_counts())\n",
    "sns.countplot(x='unacc', data=df)\n",
    "plt.title('Class Distribution (Target: unacc)')\n",
    "plt.show()"
   ]
  },
  {
   "cell_type": "code",
   "execution_count": 15,
   "id": "bfe719c8-ac85-4650-9112-d1b59a2fade9",
   "metadata": {},
   "outputs": [
    {
     "name": "stdout",
     "output_type": "stream",
     "text": [
      "vhigh 인코딩 완료. 고유값: ['high' 'low' 'med' 'vhigh']\n",
      "vhigh.1 인코딩 완료. 고유값: ['high' 'low' 'med' 'vhigh']\n",
      "2 인코딩 완료. 고유값: ['2' '3' '4' '5more']\n",
      "2.1 인코딩 완료. 고유값: ['2' '4' 'more']\n",
      "small 인코딩 완료. 고유값: ['big' 'med' 'small']\n",
      "low 인코딩 완료. 고유값: ['high' 'low' 'med']\n",
      "unacc 인코딩 완료. 고유값: ['acc' 'good' 'unacc' 'vgood']\n",
      "\n",
      "인코딩 후 데이터 샘플:\n",
      "   vhigh  vhigh.1  2  2.1  small  low  unacc\n",
      "0      3        3  0    0      2    2      2\n",
      "1      3        3  0    0      2    0      2\n",
      "2      3        3  0    0      1    1      2\n",
      "3      3        3  0    0      1    2      2\n",
      "4      3        3  0    0      1    0      2\n"
     ]
    }
   ],
   "source": [
    "# 4. 범주형 변수 숫자 인코딩\n",
    "categorical_cols = df.columns.tolist()  # 모든 컬럼 다 범주형임\n",
    "\n",
    "label_encoders = {}\n",
    "for col in categorical_cols:\n",
    "    le = LabelEncoder()\n",
    "    df[col] = le.fit_transform(df[col])\n",
    "    label_encoders[col] = le\n",
    "    print(f\"{col} 인코딩 완료. 고유값: {le.classes_}\")\n",
    "\n",
    "print(\"\\n인코딩 후 데이터 샘플:\")\n",
    "print(df.head())"
   ]
  },
  {
   "cell_type": "code",
   "execution_count": 25,
   "id": "08ac5d1e-6051-4ac4-99b2-a70ec2a55108",
   "metadata": {},
   "outputs": [
    {
     "name": "stdout",
     "output_type": "stream",
     "text": [
      "\n",
      "인코딩 후 타깃 분포:\n",
      "unacc\n",
      "2    1209\n",
      "0     384\n",
      "1      69\n",
      "3      65\n",
      "Name: count, dtype: int64\n"
     ]
    }
   ],
   "source": [
    "# 5. 인코딩 후 레이블 분포 확인\n",
    "print(\"\\n인코딩 후 타깃 분포:\")\n",
    "print(df['unacc'].value_counts())"
   ]
  },
  {
   "cell_type": "code",
   "execution_count": 23,
   "id": "491e9d0a-eb6a-43c9-a054-a59fb385c4f3",
   "metadata": {},
   "outputs": [],
   "source": [
    "# 6. 학습 데이터 준비\n",
    "X = df.drop(columns=['unacc'])\n",
    "y = df['unacc']\n",
    "\n",
    "X_train, X_test, y_train, y_test = train_test_split(X, y, test_size=0.2, random_state=42, stratify=y)"
   ]
  },
  {
   "cell_type": "code",
   "execution_count": 21,
   "id": "04733053-6b6d-4ff4-bb0c-8b99eedaedb2",
   "metadata": {},
   "outputs": [
    {
     "name": "stdout",
     "output_type": "stream",
     "text": [
      "\n",
      "Random Forest 학습 및 평가:\n",
      "Accuracy: 0.9827\n",
      "              precision    recall  f1-score   support\n",
      "\n",
      "           0       0.95      0.97      0.96        77\n",
      "           1       1.00      0.93      0.96        14\n",
      "           2       0.99      0.99      0.99       242\n",
      "           3       1.00      0.92      0.96        13\n",
      "\n",
      "    accuracy                           0.98       346\n",
      "   macro avg       0.99      0.95      0.97       346\n",
      "weighted avg       0.98      0.98      0.98       346\n",
      "\n",
      "\n",
      "Decision Tree 학습 및 평가:\n",
      "Accuracy: 0.9884\n",
      "              precision    recall  f1-score   support\n",
      "\n",
      "           0       0.96      0.99      0.97        77\n",
      "           1       0.93      1.00      0.97        14\n",
      "           2       1.00      1.00      1.00       242\n",
      "           3       1.00      0.85      0.92        13\n",
      "\n",
      "    accuracy                           0.99       346\n",
      "   macro avg       0.97      0.96      0.96       346\n",
      "weighted avg       0.99      0.99      0.99       346\n",
      "\n",
      "\n",
      "Logistic Regression 학습 및 평가:\n",
      "Accuracy: 0.6821\n",
      "              precision    recall  f1-score   support\n",
      "\n",
      "           0       0.26      0.08      0.12        77\n",
      "           1       0.00      0.00      0.00        14\n",
      "           2       0.73      0.94      0.82       242\n",
      "           3       0.18      0.15      0.17        13\n",
      "\n",
      "    accuracy                           0.68       346\n",
      "   macro avg       0.29      0.29      0.28       346\n",
      "weighted avg       0.58      0.68      0.61       346\n",
      "\n",
      "\n",
      "KNN 학습 및 평가:\n",
      "Accuracy: 0.9306\n",
      "              precision    recall  f1-score   support\n",
      "\n",
      "           0       0.86      0.86      0.86        77\n",
      "           1       0.88      0.50      0.64        14\n",
      "           2       0.95      1.00      0.97       242\n",
      "           3       1.00      0.62      0.76        13\n",
      "\n",
      "    accuracy                           0.93       346\n",
      "   macro avg       0.92      0.74      0.81       346\n",
      "weighted avg       0.93      0.93      0.93       346\n",
      "\n",
      "\n",
      "SVM 학습 및 평가:\n",
      "Accuracy: 0.9306\n",
      "              precision    recall  f1-score   support\n",
      "\n",
      "           0       0.84      0.86      0.85        77\n",
      "           1       0.80      0.29      0.42        14\n",
      "           2       0.96      1.00      0.98       242\n",
      "           3       0.91      0.77      0.83        13\n",
      "\n",
      "    accuracy                           0.93       346\n",
      "   macro avg       0.88      0.73      0.77       346\n",
      "weighted avg       0.93      0.93      0.92       346\n",
      "\n"
     ]
    },
    {
     "name": "stderr",
     "output_type": "stream",
     "text": [
      "/opt/anaconda3/lib/python3.12/site-packages/sklearn/metrics/_classification.py:1531: UndefinedMetricWarning: Precision is ill-defined and being set to 0.0 in labels with no predicted samples. Use `zero_division` parameter to control this behavior.\n",
      "  _warn_prf(average, modifier, f\"{metric.capitalize()} is\", len(result))\n",
      "/opt/anaconda3/lib/python3.12/site-packages/sklearn/metrics/_classification.py:1531: UndefinedMetricWarning: Precision is ill-defined and being set to 0.0 in labels with no predicted samples. Use `zero_division` parameter to control this behavior.\n",
      "  _warn_prf(average, modifier, f\"{metric.capitalize()} is\", len(result))\n",
      "/opt/anaconda3/lib/python3.12/site-packages/sklearn/metrics/_classification.py:1531: UndefinedMetricWarning: Precision is ill-defined and being set to 0.0 in labels with no predicted samples. Use `zero_division` parameter to control this behavior.\n",
      "  _warn_prf(average, modifier, f\"{metric.capitalize()} is\", len(result))\n"
     ]
    }
   ],
   "source": [
    "# 7. 분류 모델 학습 및 평가\n",
    "models = {\n",
    "    'Random Forest': RandomForestClassifier(random_state=42),\n",
    "    'Decision Tree': DecisionTreeClassifier(random_state=42),\n",
    "    'Logistic Regression': LogisticRegression(max_iter=1000),\n",
    "    'KNN': KNeighborsClassifier(),\n",
    "    'SVM': SVC()\n",
    "}\n",
    "\n",
    "for name, model in models.items():\n",
    "    print(f\"\\n{name} 학습 및 평가:\")\n",
    "    model.fit(X_train, y_train)\n",
    "    y_pred = model.predict(X_test)\n",
    "    acc = accuracy_score(y_test, y_pred)\n",
    "    print(f\"Accuracy: {acc:.4f}\")\n",
    "    print(classification_report(y_test, y_pred))"
   ]
  },
  {
   "cell_type": "code",
   "execution_count": null,
   "id": "4c61ad9d-3a55-4694-949b-9be3e177f2df",
   "metadata": {},
   "outputs": [],
   "source": []
  }
 ],
 "metadata": {
  "kernelspec": {
   "display_name": "Python [conda env:base] *",
   "language": "python",
   "name": "conda-base-py"
  },
  "language_info": {
   "codemirror_mode": {
    "name": "ipython",
    "version": 3
   },
   "file_extension": ".py",
   "mimetype": "text/x-python",
   "name": "python",
   "nbconvert_exporter": "python",
   "pygments_lexer": "ipython3",
   "version": "3.12.7"
  }
 },
 "nbformat": 4,
 "nbformat_minor": 5
}
