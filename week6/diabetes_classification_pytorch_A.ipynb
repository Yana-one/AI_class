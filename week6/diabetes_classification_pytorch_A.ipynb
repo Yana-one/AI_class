{
 "cells": [
  {
   "cell_type": "code",
   "execution_count": 16,
   "id": "4c6b99ab-44f8-4e27-a23c-f3fa7dc6d617",
   "metadata": {},
   "outputs": [],
   "source": [
    "import pandas as pd\n",
    "import numpy as np\n",
    "import torch\n",
    "import torch.nn as nn\n",
    "import torch.optim as optim\n",
    "from torch.utils.data import Dataset, DataLoader\n",
    "from sklearn.model_selection import train_test_split\n",
    "from sklearn.preprocessing import StandardScaler"
   ]
  },
  {
   "cell_type": "code",
   "execution_count": 18,
   "id": "d670b7ef-5588-4806-987f-5d7fa99b7506",
   "metadata": {},
   "outputs": [
    {
     "name": "stdout",
     "output_type": "stream",
     "text": [
      "✅ 데이터 로딩 완료\n",
      "   Pregnancies  Glucose  BloodPressure  SkinThickness  Insulin   BMI  \\\n",
      "0            6      148             72             35        0  33.6   \n",
      "1            1       85             66             29        0  26.6   \n",
      "2            8      183             64              0        0  23.3   \n",
      "3            1       89             66             23       94  28.1   \n",
      "4            0      137             40             35      168  43.1   \n",
      "\n",
      "   DiabetesPedigreeFunction  Age  Outcome  \n",
      "0                     0.627   50        1  \n",
      "1                     0.351   31        0  \n",
      "2                     0.672   32        1  \n",
      "3                     0.167   21        0  \n",
      "4                     2.288   33        1  \n"
     ]
    }
   ],
   "source": [
    "# 1. 데이터 로딩 및 전처리\n",
    "url = \"https://raw.githubusercontent.com/MyungKyuYi/AI-class/refs/heads/main/diabetes.csv\"\n",
    "df = pd.read_csv(url)\n",
    "print(\"✅ 데이터 로딩 완료\")\n",
    "print(df.head())"
   ]
  },
  {
   "cell_type": "code",
   "execution_count": 6,
   "id": "33b9f3e9-79c0-491d-b638-9749790f2dbf",
   "metadata": {},
   "outputs": [],
   "source": [
    "columns = ['Pregnancies', 'Glucose', 'BloodPressure', 'SkinThickness', 'Insulin',\n",
    "           'BMI', 'DiabetesPedigreeFunction', 'Age', 'Outcome']"
   ]
  },
  {
   "cell_type": "code",
   "execution_count": 8,
   "id": "f8c0ad35-a908-4e9d-8711-7c56be2ca362",
   "metadata": {},
   "outputs": [],
   "source": [
    "# 2. 특성(X)와 레이블(y) 분리 (분류: Outcome은 클래스 0,1)\n",
    "X = df.drop('Outcome', axis=1).values\n",
    "y = df['Outcome'].values  # 0, 1 분류 레이블"
   ]
  },
  {
   "cell_type": "code",
   "execution_count": 10,
   "id": "9ce16422-e2b9-4ccc-99b9-86d048b7d562",
   "metadata": {},
   "outputs": [],
   "source": [
    "# 3. 학습/테스트 셋 분할 및 스케일링\n",
    "X_train, X_test, y_train, y_test = train_test_split(X, y, test_size=0.2, random_state=42, stratify=y)\n",
    "scaler = StandardScaler()\n",
    "X_train = scaler.fit_transform(X_train)\n",
    "X_test  = scaler.transform(X_test)"
   ]
  },
  {
   "cell_type": "code",
   "execution_count": 12,
   "id": "639b64fc-7ac1-4c4b-b204-f6db412e367a",
   "metadata": {},
   "outputs": [],
   "source": [
    "# numpy 배열 → torch tensor 변환\n",
    "X_train = torch.tensor(X_train, dtype=torch.float32)\n",
    "y_train = torch.tensor(y_train, dtype=torch.long)\n",
    "X_test  = torch.tensor(X_test, dtype=torch.float32)\n",
    "y_test  = torch.tensor(y_test, dtype=torch.long)"
   ]
  },
  {
   "cell_type": "code",
   "execution_count": 14,
   "id": "93fd55b7-ba0b-4bfa-a35c-4cba9ef2165c",
   "metadata": {},
   "outputs": [],
   "source": [
    "# 4. Dataset 클래스 정의\n",
    "class DiabetesDataset(Dataset):\n",
    "    def __init__(self, X, y):\n",
    "        self.X = X \n",
    "        self.y = y \n",
    "    def __len__(self):\n",
    "        return len(self.y)\n",
    "    def __getitem__(self, idx):\n",
    "        return self.X[idx], self.y[idx]"
   ]
  },
  {
   "cell_type": "code",
   "execution_count": 22,
   "id": "50c709d7-f514-4eda-9383-3fa954e61dc8",
   "metadata": {},
   "outputs": [],
   "source": [
    "train_dataset = DiabetesDataset(X_train, y_train)\n",
    "test_dataset  = DiabetesDataset(X_test, y_test)"
   ]
  },
  {
   "cell_type": "code",
   "execution_count": 24,
   "id": "169043ef-5923-4143-aef2-b4a50296f265",
   "metadata": {},
   "outputs": [],
   "source": [
    "# 5. DataLoader 생성\n",
    "batch_size = 32\n",
    "train_loader = DataLoader(train_dataset, batch_size=batch_size, shuffle=True)\n",
    "test_loader  = DataLoader(test_dataset, batch_size=batch_size, shuffle=False)"
   ]
  },
  {
   "cell_type": "code",
   "execution_count": 26,
   "id": "449e36a8-a8a4-42bc-b94c-b08539b292fb",
   "metadata": {},
   "outputs": [],
   "source": [
    "# 6. Abalone 스타일 분류 모델 정의 (은닉층 크기 확대)\n",
    "class DiabetesNetAbaloneClassification(nn.Module):\n",
    "    def __init__(self, input_dim):\n",
    "        super(DiabetesNetAbaloneClassification, self).__init__()\n",
    "        self.net = nn.Sequential(\n",
    "            nn.Linear(input_dim, 128),\n",
    "            nn.ReLU(),\n",
    "            nn.Linear(128, 64),\n",
    "            nn.ReLU(),\n",
    "            nn.Linear(64, 2)  # 2 클래스 분류\n",
    "        )\n",
    "    def forward(self, x):\n",
    "        return self.net(x)\n",
    "\n",
    "model = DiabetesNetAbaloneClassification(input_dim=X_train.shape[1])"
   ]
  },
  {
   "cell_type": "code",
   "execution_count": 28,
   "id": "b62d5de1-779f-4ada-99ff-5d89b8a873ed",
   "metadata": {},
   "outputs": [],
   "source": [
    "# 7. 손실 함수 및 최적화기 설정\n",
    "criterion = nn.CrossEntropyLoss()\n",
    "optimizer = optim.Adam(model.parameters(), lr=0.0005)"
   ]
  },
  {
   "cell_type": "code",
   "execution_count": 30,
   "id": "48e9c4e5-05f9-4e2c-9a68-214f4c923ec8",
   "metadata": {},
   "outputs": [],
   "source": [
    "# 8. 학습 및 평가 함수는 앞서 재사용 (train_classification, evaluate_classification 사용)\n",
    "def train_classification(model, loader, criterion, optimizer, device):\n",
    "    model.train()\n",
    "    running_loss = 0.\n",
    "    for data, target in loader:\n",
    "        data, target = data.to(device), target.to(device)\n",
    "        optimizer.zero_grad()\n",
    "        outputs = model(data)\n",
    "        loss = criterion(outputs, target)\n",
    "        loss.backward()\n",
    "        optimizer.step()\n",
    "        running_loss += loss.item() * data.size(0)\n",
    "    return running_loss / len(loader.dataset)"
   ]
  },
  {
   "cell_type": "code",
   "execution_count": 32,
   "id": "27f69a1a-5bcb-4a7b-8a50-9610984e0ed0",
   "metadata": {},
   "outputs": [],
   "source": [
    "def evaluate_classification(model, loader, criterion, device):\n",
    "    model.eval()\n",
    "    running_loss = 0.\n",
    "    correct = 0\n",
    "    with torch.no_grad():\n",
    "        for data, target in loader:\n",
    "            data, target = data.to(device), target.to(device)\n",
    "            outputs = model(data)\n",
    "            loss = criterion(outputs, target)\n",
    "            running_loss += loss.item() * data.size(0)\n",
    "            pred = outputs.argmax(dim=1)\n",
    "            correct += pred.eq(target).sum().item()\n",
    "    avg_loss = running_loss / len(loader.dataset)\n",
    "    accuracy = correct / len(loader.dataset)\n",
    "    return avg_loss, accuracy"
   ]
  },
  {
   "cell_type": "code",
   "execution_count": 38,
   "id": "949ae950-083c-42f1-9811-80791f4797b6",
   "metadata": {},
   "outputs": [
    {
     "name": "stdout",
     "output_type": "stream",
     "text": [
      "Epoch 01: Train Loss = 0.3289, Val Loss = 0.5672, Val Acc = 0.7013\n",
      "Epoch 02: Train Loss = 0.3268, Val Loss = 0.5583, Val Acc = 0.7338\n",
      "Epoch 03: Train Loss = 0.3250, Val Loss = 0.5681, Val Acc = 0.7403\n",
      "Epoch 04: Train Loss = 0.3208, Val Loss = 0.5645, Val Acc = 0.7338\n",
      "Epoch 05: Train Loss = 0.3192, Val Loss = 0.5739, Val Acc = 0.7013\n",
      "Epoch 06: Train Loss = 0.3199, Val Loss = 0.5666, Val Acc = 0.7208\n",
      "Epoch 07: Train Loss = 0.3177, Val Loss = 0.5743, Val Acc = 0.7273\n",
      "Epoch 08: Train Loss = 0.3125, Val Loss = 0.5720, Val Acc = 0.7403\n",
      "Epoch 09: Train Loss = 0.3091, Val Loss = 0.5759, Val Acc = 0.7273\n",
      "Epoch 10: Train Loss = 0.3078, Val Loss = 0.5897, Val Acc = 0.7338\n",
      "Epoch 11: Train Loss = 0.3061, Val Loss = 0.5770, Val Acc = 0.7403\n",
      "Epoch 12: Train Loss = 0.3069, Val Loss = 0.5850, Val Acc = 0.7273\n",
      "Epoch 13: Train Loss = 0.3013, Val Loss = 0.5768, Val Acc = 0.7273\n",
      "Epoch 14: Train Loss = 0.2992, Val Loss = 0.5861, Val Acc = 0.7338\n",
      "Epoch 15: Train Loss = 0.2962, Val Loss = 0.5932, Val Acc = 0.7403\n",
      "Epoch 16: Train Loss = 0.2913, Val Loss = 0.5863, Val Acc = 0.7338\n",
      "Epoch 17: Train Loss = 0.2922, Val Loss = 0.5916, Val Acc = 0.7273\n",
      "Epoch 18: Train Loss = 0.2885, Val Loss = 0.6059, Val Acc = 0.7273\n",
      "Epoch 19: Train Loss = 0.2869, Val Loss = 0.5912, Val Acc = 0.7143\n",
      "Epoch 20: Train Loss = 0.2872, Val Loss = 0.6132, Val Acc = 0.7273\n",
      "Epoch 21: Train Loss = 0.2878, Val Loss = 0.6207, Val Acc = 0.7273\n",
      "Epoch 22: Train Loss = 0.2824, Val Loss = 0.6024, Val Acc = 0.7338\n",
      "Epoch 23: Train Loss = 0.2800, Val Loss = 0.6134, Val Acc = 0.7338\n",
      "Epoch 24: Train Loss = 0.2749, Val Loss = 0.6113, Val Acc = 0.7468\n",
      "Epoch 25: Train Loss = 0.2739, Val Loss = 0.6139, Val Acc = 0.7338\n",
      "Epoch 26: Train Loss = 0.2699, Val Loss = 0.6125, Val Acc = 0.7468\n",
      "Epoch 27: Train Loss = 0.2761, Val Loss = 0.6231, Val Acc = 0.7273\n",
      "Epoch 28: Train Loss = 0.2666, Val Loss = 0.6193, Val Acc = 0.7338\n",
      "Epoch 29: Train Loss = 0.2632, Val Loss = 0.6297, Val Acc = 0.7273\n",
      "Epoch 30: Train Loss = 0.2628, Val Loss = 0.6226, Val Acc = 0.7468\n",
      "Epoch 31: Train Loss = 0.2584, Val Loss = 0.6294, Val Acc = 0.7403\n",
      "Epoch 32: Train Loss = 0.2604, Val Loss = 0.6228, Val Acc = 0.7468\n",
      "Epoch 33: Train Loss = 0.2551, Val Loss = 0.6311, Val Acc = 0.7338\n",
      "Epoch 34: Train Loss = 0.2541, Val Loss = 0.6317, Val Acc = 0.7468\n",
      "Epoch 35: Train Loss = 0.2540, Val Loss = 0.6307, Val Acc = 0.7532\n",
      "Epoch 36: Train Loss = 0.2527, Val Loss = 0.6512, Val Acc = 0.7143\n",
      "Epoch 37: Train Loss = 0.2479, Val Loss = 0.6317, Val Acc = 0.7468\n",
      "Epoch 38: Train Loss = 0.2446, Val Loss = 0.6471, Val Acc = 0.7403\n",
      "Epoch 39: Train Loss = 0.2455, Val Loss = 0.6562, Val Acc = 0.7208\n",
      "Epoch 40: Train Loss = 0.2442, Val Loss = 0.6669, Val Acc = 0.7273\n",
      "Epoch 41: Train Loss = 0.2394, Val Loss = 0.6418, Val Acc = 0.7468\n",
      "Epoch 42: Train Loss = 0.2434, Val Loss = 0.6354, Val Acc = 0.7532\n",
      "Epoch 43: Train Loss = 0.2366, Val Loss = 0.6708, Val Acc = 0.7338\n",
      "Epoch 44: Train Loss = 0.2314, Val Loss = 0.6486, Val Acc = 0.7532\n",
      "Epoch 45: Train Loss = 0.2330, Val Loss = 0.6566, Val Acc = 0.7338\n",
      "Epoch 46: Train Loss = 0.2303, Val Loss = 0.6618, Val Acc = 0.7468\n",
      "Epoch 47: Train Loss = 0.2274, Val Loss = 0.6733, Val Acc = 0.7338\n",
      "Epoch 48: Train Loss = 0.2254, Val Loss = 0.6625, Val Acc = 0.7338\n",
      "Epoch 49: Train Loss = 0.2316, Val Loss = 0.6702, Val Acc = 0.7532\n",
      "Epoch 50: Train Loss = 0.2225, Val Loss = 0.6657, Val Acc = 0.7597\n"
     ]
    }
   ],
   "source": [
    "# 9. 학습 루프 실행\n",
    "device = torch.device(\"cuda\" if torch.cuda.is_available() else \"cpu\")\n",
    "model.to(device)\n",
    "num_epochs = 50\n",
    "\n",
    "for epoch in range(1, num_epochs+1):\n",
    "    train_loss = train_classification(model, train_loader, criterion, optimizer, device)\n",
    "    val_loss, val_acc = evaluate_classification(model, test_loader, criterion, device)\n",
    "    print(f\"Epoch {epoch:02d}: Train Loss = {train_loss:.4f}, Val Loss = {val_loss:.4f}, Val Acc = {val_acc:.4f}\")"
   ]
  },
  {
   "cell_type": "code",
   "execution_count": 40,
   "id": "d2ec9fc0-9ee4-4a7a-a987-e05ef2f1504c",
   "metadata": {},
   "outputs": [
    {
     "name": "stdout",
     "output_type": "stream",
     "text": [
      "최종 평가: (0.6656751655913019, 0.7597402597402597)\n"
     ]
    }
   ],
   "source": [
    "print(\"최종 평가:\", evaluate_classification(model, test_loader, criterion, device))"
   ]
  },
  {
   "cell_type": "code",
   "execution_count": null,
   "id": "c29f1a5e-972f-42a2-bcfd-273ab0ba232a",
   "metadata": {},
   "outputs": [],
   "source": []
  }
 ],
 "metadata": {
  "kernelspec": {
   "display_name": "Python [conda env:base] *",
   "language": "python",
   "name": "conda-base-py"
  },
  "language_info": {
   "codemirror_mode": {
    "name": "ipython",
    "version": 3
   },
   "file_extension": ".py",
   "mimetype": "text/x-python",
   "name": "python",
   "nbconvert_exporter": "python",
   "pygments_lexer": "ipython3",
   "version": "3.12.2"
  }
 },
 "nbformat": 4,
 "nbformat_minor": 5
}
