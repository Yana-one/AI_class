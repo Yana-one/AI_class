{
 "cells": [
  {
   "cell_type": "code",
   "execution_count": 2,
   "id": "38f85f82-b5f3-4cee-9000-1c57fcbb065b",
   "metadata": {},
   "outputs": [],
   "source": [
    "import pandas as pd\n",
    "import numpy as np\n",
    "import torch\n",
    "import torch.nn as nn\n",
    "import torch.optim as optim\n",
    "from torch.utils.data import Dataset, DataLoader\n",
    "from sklearn.model_selection import train_test_split\n",
    "from sklearn.preprocessing import StandardScaler"
   ]
  },
  {
   "cell_type": "code",
   "execution_count": 4,
   "id": "5450e028-c057-4f44-bef8-f0ec298a7399",
   "metadata": {},
   "outputs": [
    {
     "name": "stdout",
     "output_type": "stream",
     "text": [
      "✅ 데이터 로딩 완료\n",
      "   Pregnancies  Glucose  BloodPressure  SkinThickness  Insulin   BMI  \\\n",
      "0            6      148             72             35        0  33.6   \n",
      "1            1       85             66             29        0  26.6   \n",
      "2            8      183             64              0        0  23.3   \n",
      "3            1       89             66             23       94  28.1   \n",
      "4            0      137             40             35      168  43.1   \n",
      "\n",
      "   DiabetesPedigreeFunction  Age  Outcome  \n",
      "0                     0.627   50        1  \n",
      "1                     0.351   31        0  \n",
      "2                     0.672   32        1  \n",
      "3                     0.167   21        0  \n",
      "4                     2.288   33        1  \n"
     ]
    }
   ],
   "source": [
    "# 1. 데이터 로딩 및 전처리\n",
    "url = \"https://raw.githubusercontent.com/MyungKyuYi/AI-class/refs/heads/main/diabetes.csv\"\n",
    "df = pd.read_csv(url)\n",
    "print(\"✅ 데이터 로딩 완료\")\n",
    "print(df.head())"
   ]
  },
  {
   "cell_type": "code",
   "execution_count": 6,
   "id": "87bdcd78-b4d1-4592-8028-33947da24e11",
   "metadata": {},
   "outputs": [],
   "source": [
    "# Outcome을 회귀 대상으로 사용 (float형으로 변환)\n",
    "X = df.drop(\"Outcome\", axis=1).values\n",
    "y = df[\"Outcome\"].values.astype(np.float32)  # 회귀용 타겟"
   ]
  },
  {
   "cell_type": "code",
   "execution_count": 10,
   "id": "8294efd9-dd26-4d2b-a764-0fa527ab0097",
   "metadata": {},
   "outputs": [],
   "source": [
    "# 2. 학습/테스트 분할 및 스케일링\n",
    "X_train, X_test, y_train, y_test = train_test_split(X, y, test_size=0.2,random_state=42)\n",
    "scaler = StandardScaler()\n",
    "X_train = scaler.fit_transform(X_train)\n",
    "X_test  = scaler.transform(X_test)"
   ]
  },
  {
   "cell_type": "code",
   "execution_count": 12,
   "id": "d7d99d40-f131-4646-ac06-d0d26fb70f09",
   "metadata": {},
   "outputs": [],
   "source": [
    "# 3. numpy -> torch tensor 변환\n",
    "X_train = torch.tensor(X_train, dtype=torch.float32)\n",
    "y_train = torch.tensor(y_train, dtype=torch.float32).view(-1, 1)\n",
    "X_test  = torch.tensor(X_test, dtype=torch.float32)\n",
    "y_test  = torch.tensor(y_test, dtype=torch.float32).view(-1, 1)"
   ]
  },
  {
   "cell_type": "code",
   "execution_count": 14,
   "id": "94d15ada-d867-4d0a-9867-5857ff7f558d",
   "metadata": {},
   "outputs": [],
   "source": [
    "# 4. Dataset 정의 (회귀용)\n",
    "class DiabetesDatasetReg(Dataset):\n",
    "    def __init__(self, X, y):\n",
    "        self.X = X\n",
    "        self.y = y\n",
    "    def __len__(self):\n",
    "        return len(self.y)\n",
    "    def __getitem__(self, idx):\n",
    "        return self.X[idx], self.y[idx]\n",
    "\n",
    "train_dataset_reg = DiabetesDatasetReg(X_train, y_train)\n",
    "test_dataset_reg  = DiabetesDatasetReg(X_test, y_test)"
   ]
  },
  {
   "cell_type": "code",
   "execution_count": 16,
   "id": "b3c64631-ada2-4a66-ba21-9f3f0afd899e",
   "metadata": {},
   "outputs": [],
   "source": [
    "# 5. DataLoader 생성\n",
    "batch_size = 32\n",
    "train_loader_reg = DataLoader(train_dataset_reg, batch_size=batch_size, shuffle=True)\n",
    "test_loader_reg  = DataLoader(test_dataset_reg, batch_size=batch_size, shuffle=False)"
   ]
  },
  {
   "cell_type": "code",
   "execution_count": 18,
   "id": "2f5d7fa7-b680-4c0c-9e51-5867063da6e1",
   "metadata": {},
   "outputs": [],
   "source": [
    "# 6. Abalone 스타일 회귀 모델 정의 (은닉층 크기를 확대)\n",
    "class DiabetesNetAbaloneRegression(nn.Module):\n",
    "    def __init__(self, input_dim):\n",
    "        super(DiabetesNetAbaloneRegression, self).__init__()\n",
    "        self.net = nn.Sequential(\n",
    "            nn.Linear(input_dim, 128),\n",
    "            nn.ReLU(),\n",
    "            nn.Linear(128, 64),\n",
    "            nn.ReLU(),\n",
    "            nn.Linear(64, 1)  # 회귀이므로 출력 1개\n",
    "        )\n",
    "    def forward(self, x):\n",
    "        return self.net(x)\n",
    "\n",
    "model_reg_abalone = DiabetesNetAbaloneRegression(input_dim=X_train.shape[1])"
   ]
  },
  {
   "cell_type": "code",
   "execution_count": 20,
   "id": "9998ca3c-05c0-44ca-95ba-e490f6994dc3",
   "metadata": {},
   "outputs": [],
   "source": [
    "# 7. 손실함수와 최적화기 설정\n",
    "criterion_reg = nn.MSELoss()\n",
    "optimizer_reg_abalone = optim.Adam(model_reg_abalone.parameters(), lr=0.0005)"
   ]
  },
  {
   "cell_type": "code",
   "execution_count": 22,
   "id": "adb74b42-1190-4ff5-86ba-e267584a00ec",
   "metadata": {},
   "outputs": [],
   "source": [
    "# 8. 학습 및 평가 함수 (회귀)\n",
    "def train_regression(model, loader, criterion, optimizer, device):\n",
    "    model.train()\n",
    "    running_loss = 0.\n",
    "    for data, target in loader:\n",
    "        data, target = data.to(device), target.to(device)\n",
    "        optimizer.zero_grad()\n",
    "        outputs = model(data)\n",
    "        loss = criterion(outputs, target)\n",
    "        loss.backward()\n",
    "        optimizer.step()\n",
    "        running_loss += loss.item() * data.size(0)\n",
    "    return running_loss / len(loader.dataset)"
   ]
  },
  {
   "cell_type": "code",
   "execution_count": 24,
   "id": "b54091a0-4aec-4fa3-8a4b-bf9d0bd008cf",
   "metadata": {},
   "outputs": [],
   "source": [
    "def evaluate_regression(model, loader, criterion, device):\n",
    "    model.eval()\n",
    "    running_loss = 0.\n",
    "    with torch.no_grad():\n",
    "        for data, target in loader:\n",
    "            data, target = data.to(device), target.to(device)\n",
    "            outputs = model(data)\n",
    "            loss = criterion(outputs, target)\n",
    "            running_loss += loss.item() * data.size(0)\n",
    "    return running_loss / len(loader.dataset)"
   ]
  },
  {
   "cell_type": "code",
   "execution_count": 26,
   "id": "6ca01db6-9c84-4f32-9e5e-3a5c75d2155f",
   "metadata": {},
   "outputs": [
    {
     "name": "stdout",
     "output_type": "stream",
     "text": [
      "Epoch 01: Train MSE = 0.1895, Val MSE = 0.1689\n",
      "Epoch 02: Train MSE = 0.1601, Val MSE = 0.1646\n",
      "Epoch 03: Train MSE = 0.1519, Val MSE = 0.1704\n",
      "Epoch 04: Train MSE = 0.1490, Val MSE = 0.1764\n",
      "Epoch 05: Train MSE = 0.1465, Val MSE = 0.1712\n",
      "Epoch 06: Train MSE = 0.1437, Val MSE = 0.1703\n",
      "Epoch 07: Train MSE = 0.1413, Val MSE = 0.1717\n",
      "Epoch 08: Train MSE = 0.1394, Val MSE = 0.1753\n",
      "Epoch 09: Train MSE = 0.1370, Val MSE = 0.1725\n",
      "Epoch 10: Train MSE = 0.1362, Val MSE = 0.1732\n",
      "Epoch 11: Train MSE = 0.1340, Val MSE = 0.1791\n",
      "Epoch 12: Train MSE = 0.1339, Val MSE = 0.1773\n",
      "Epoch 13: Train MSE = 0.1317, Val MSE = 0.1800\n",
      "Epoch 14: Train MSE = 0.1306, Val MSE = 0.1754\n",
      "Epoch 15: Train MSE = 0.1290, Val MSE = 0.1838\n",
      "Epoch 16: Train MSE = 0.1289, Val MSE = 0.1884\n",
      "Epoch 17: Train MSE = 0.1279, Val MSE = 0.1849\n",
      "Epoch 18: Train MSE = 0.1246, Val MSE = 0.1841\n",
      "Epoch 19: Train MSE = 0.1245, Val MSE = 0.1853\n",
      "Epoch 20: Train MSE = 0.1226, Val MSE = 0.1825\n",
      "Epoch 21: Train MSE = 0.1230, Val MSE = 0.1868\n",
      "Epoch 22: Train MSE = 0.1210, Val MSE = 0.1861\n",
      "Epoch 23: Train MSE = 0.1188, Val MSE = 0.1860\n",
      "Epoch 24: Train MSE = 0.1178, Val MSE = 0.1870\n",
      "Epoch 25: Train MSE = 0.1166, Val MSE = 0.1867\n",
      "Epoch 26: Train MSE = 0.1151, Val MSE = 0.1922\n",
      "Epoch 27: Train MSE = 0.1166, Val MSE = 0.1832\n",
      "Epoch 28: Train MSE = 0.1143, Val MSE = 0.1905\n",
      "Epoch 29: Train MSE = 0.1159, Val MSE = 0.1933\n",
      "Epoch 30: Train MSE = 0.1152, Val MSE = 0.2067\n",
      "Epoch 31: Train MSE = 0.1140, Val MSE = 0.1898\n",
      "Epoch 32: Train MSE = 0.1103, Val MSE = 0.1929\n",
      "Epoch 33: Train MSE = 0.1085, Val MSE = 0.1904\n",
      "Epoch 34: Train MSE = 0.1068, Val MSE = 0.1937\n",
      "Epoch 35: Train MSE = 0.1085, Val MSE = 0.1936\n",
      "Epoch 36: Train MSE = 0.1063, Val MSE = 0.1988\n",
      "Epoch 37: Train MSE = 0.1061, Val MSE = 0.2004\n",
      "Epoch 38: Train MSE = 0.1033, Val MSE = 0.1955\n",
      "Epoch 39: Train MSE = 0.1019, Val MSE = 0.1965\n",
      "Epoch 40: Train MSE = 0.1009, Val MSE = 0.1973\n",
      "Epoch 41: Train MSE = 0.1013, Val MSE = 0.1948\n",
      "Epoch 42: Train MSE = 0.1023, Val MSE = 0.1981\n",
      "Epoch 43: Train MSE = 0.0984, Val MSE = 0.2042\n",
      "Epoch 44: Train MSE = 0.0982, Val MSE = 0.2005\n",
      "Epoch 45: Train MSE = 0.0960, Val MSE = 0.2061\n",
      "Epoch 46: Train MSE = 0.0971, Val MSE = 0.2025\n",
      "Epoch 47: Train MSE = 0.0945, Val MSE = 0.2116\n",
      "Epoch 48: Train MSE = 0.0946, Val MSE = 0.2025\n",
      "Epoch 49: Train MSE = 0.0964, Val MSE = 0.2027\n",
      "Epoch 50: Train MSE = 0.0915, Val MSE = 0.2061\n"
     ]
    }
   ],
   "source": [
    "# 9. 학습 루프 실행\n",
    "device = torch.device(\"cuda\" if torch.cuda.is_available() else \"cpu\")\n",
    "model_reg_abalone.to(device)\n",
    "num_epochs = 50\n",
    "\n",
    "for epoch in range(1, num_epochs+1):\n",
    "    train_loss = train_regression(model_reg_abalone, train_loader_reg, criterion_reg, optimizer_reg_abalone, device)\n",
    "    val_loss = evaluate_regression(model_reg_abalone, test_loader_reg, criterion_reg, device)\n",
    "    print(f\"Epoch {epoch:02d}: Train MSE = {train_loss:.4f}, Val MSE = {val_loss:.4f}\")"
   ]
  },
  {
   "cell_type": "code",
   "execution_count": 28,
   "id": "ccf45701-614c-43d1-bd95-d959c8409e2e",
   "metadata": {},
   "outputs": [
    {
     "name": "stdout",
     "output_type": "stream",
     "text": [
      "최종 테스트 MSE: 0.206086073989992\n"
     ]
    }
   ],
   "source": [
    "print(\"최종 테스트 MSE:\", evaluate_regression(model_reg_abalone, test_loader_reg, criterion_reg, device))"
   ]
  },
  {
   "cell_type": "code",
   "execution_count": null,
   "id": "d7eecac6-6d2e-4ae0-8dec-26427e5c646e",
   "metadata": {},
   "outputs": [],
   "source": []
  }
 ],
 "metadata": {
  "kernelspec": {
   "display_name": "Python [conda env:base] *",
   "language": "python",
   "name": "conda-base-py"
  },
  "language_info": {
   "codemirror_mode": {
    "name": "ipython",
    "version": 3
   },
   "file_extension": ".py",
   "mimetype": "text/x-python",
   "name": "python",
   "nbconvert_exporter": "python",
   "pygments_lexer": "ipython3",
   "version": "3.12.2"
  }
 },
 "nbformat": 4,
 "nbformat_minor": 5
}
