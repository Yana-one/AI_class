{
 "cells": [
  {
   "cell_type": "code",
   "execution_count": 2,
   "id": "f460e394-5ca7-4f43-a071-f1290aa6f9b9",
   "metadata": {},
   "outputs": [],
   "source": [
    "import pandas as pd\n",
    "import numpy as np\n",
    "import torch\n",
    "import torch.nn as nn\n",
    "import torch.optim as optim\n",
    "from torch.utils.data import Dataset, DataLoader\n",
    "from sklearn.model_selection import train_test_split\n",
    "from sklearn.preprocessing import StandardScaler"
   ]
  },
  {
   "cell_type": "code",
   "execution_count": 4,
   "id": "e128d14e-05f5-4ef7-811f-6d1f1e7b792f",
   "metadata": {},
   "outputs": [
    {
     "name": "stdout",
     "output_type": "stream",
     "text": [
      "✅ 데이터 로딩 완료\n",
      "   Pregnancies  Glucose  BloodPressure  SkinThickness  Insulin   BMI  \\\n",
      "0            6      148             72             35        0  33.6   \n",
      "1            1       85             66             29        0  26.6   \n",
      "2            8      183             64              0        0  23.3   \n",
      "3            1       89             66             23       94  28.1   \n",
      "4            0      137             40             35      168  43.1   \n",
      "\n",
      "   DiabetesPedigreeFunction  Age  Outcome  \n",
      "0                     0.627   50        1  \n",
      "1                     0.351   31        0  \n",
      "2                     0.672   32        1  \n",
      "3                     0.167   21        0  \n",
      "4                     2.288   33        1  \n"
     ]
    }
   ],
   "source": [
    "# 1. 데이터 로딩\n",
    "url = \"https://raw.githubusercontent.com/MyungKyuYi/AI-class/refs/heads/main/diabetes.csv\"\n",
    "df = pd.read_csv(url)\n",
    "print(\"✅ 데이터 로딩 완료\")\n",
    "print(df.head())"
   ]
  },
  {
   "cell_type": "code",
   "execution_count": 6,
   "id": "308a0553-f518-4707-bbb3-4c82a327e5ca",
   "metadata": {},
   "outputs": [],
   "source": [
    "# 2. 데이터 전처리 (회귀를 위해, Outcome을 연속형 값으로 사용)\n",
    "columns = ['Pregnancies', 'Glucose', 'BloodPressure', 'SkinThickness', \n",
    "           'Insulin', 'BMI', 'DiabetesPedigreeFunction', 'Age', 'Outcome']"
   ]
  },
  {
   "cell_type": "code",
   "execution_count": 8,
   "id": "f216c9ef-0c1a-4d59-b731-1a69a1c980cd",
   "metadata": {},
   "outputs": [],
   "source": [
    "from sklearn.preprocessing import LabelEncoder\n",
    "label_encoders = {}\n",
    "for column in columns:\n",
    "    label_encoders[column] = LabelEncoder()\n",
    "    df[column] = label_encoders[column].fit_transform(df[column])\n"
   ]
  },
  {
   "cell_type": "code",
   "execution_count": 18,
   "id": "4c381693-21f0-45c0-965c-908bbd65c1cb",
   "metadata": {},
   "outputs": [],
   "source": [
    "# 3.특성(X)와 타겟(y) 분리\n",
    "X = df.drop('Outcome', axis=1).values\n",
    "y = df['Outcome'].values.astype(np.float32)  # 회귀용이므로 float으로 변환"
   ]
  },
  {
   "cell_type": "code",
   "execution_count": 20,
   "id": "a4e517c0-e38a-4b7e-ae85-b5cf0814e1c4",
   "metadata": {},
   "outputs": [],
   "source": [
    "# 4. 학습/테스트 셋 분할 및 스케일링 \n",
    "X_train, X_test, y_train, y_test = train_test_split(X, y, test_size=0.2, random_state=42)\n",
    "scaler = StandardScaler()\n",
    "X_train = scaler.fit_transform(X_train)\n",
    "X_test  = scaler.transform(X_test)"
   ]
  },
  {
   "cell_type": "code",
   "execution_count": 22,
   "id": "345408fd-71ee-4a7d-893e-7ae0cb5bf914",
   "metadata": {},
   "outputs": [],
   "source": [
    "# numpy → torch tensor 변환\n",
    "X_train = torch.tensor(X_train, dtype=torch.float32)\n",
    "y_train = torch.tensor(y_train, dtype=torch.float32).view(-1, 1)  # (N,1) 형태로 변환\n",
    "X_test  = torch.tensor(X_test, dtype=torch.float32)\n",
    "y_test  = torch.tensor(y_test, dtype=torch.float32).view(-1, 1)"
   ]
  },
  {
   "cell_type": "code",
   "execution_count": 24,
   "id": "ed6ec312-1416-4abb-ae84-6b72dde362dd",
   "metadata": {},
   "outputs": [],
   "source": [
    "# 5. Dataset 클래스 정의 (회귀용)\n",
    "class DiabetesDataset(Dataset):\n",
    "    def __init__(self, X, y):\n",
    "        self.X = X\n",
    "        self.y = y\n",
    "    def __len__(self):\n",
    "        return len(self.y)\n",
    "    def __getitem__(self, idx):\n",
    "        return self.X[idx], self.y[idx]"
   ]
  },
  {
   "cell_type": "code",
   "execution_count": 26,
   "id": "71de42cd-6b26-48da-b986-139202b5be2b",
   "metadata": {},
   "outputs": [],
   "source": [
    "train_dataset = DiabetesDataset(X_train, y_train)\n",
    "test_dataset  = DiabetesDataset(X_test, y_test)"
   ]
  },
  {
   "cell_type": "code",
   "execution_count": 28,
   "id": "14d8416f-caca-4da0-8ade-2bb79bf9ba7c",
   "metadata": {},
   "outputs": [],
   "source": [
    "# 6. DataLoader 생성\n",
    "batch_size = 32\n",
    "train_loader = DataLoader(train_dataset, batch_size=batch_size, shuffle=True)\n",
    "test_loader  = DataLoader(test_dataset, batch_size=batch_size, shuffle=False)"
   ]
  },
  {
   "cell_type": "code",
   "execution_count": 32,
   "id": "4540c16d-2a4e-4958-b477-f045c0d640ae",
   "metadata": {},
   "outputs": [],
   "source": [
    "# 7. 회귀용 모델 정의\n",
    "class DiabetesNetReg(nn.Module):\n",
    "    def __init__(self, input_dim):\n",
    "        super(DiabetesNetReg, self).__init__()\n",
    "        self.net = nn.Sequential(\n",
    "            nn.Linear(input_dim, 64),\n",
    "            nn.ReLU(),\n",
    "            nn.Linear(64, 32),\n",
    "            nn.ReLU(),\n",
    "            nn.Linear(32, 1)  # 회귀 문제이므로 출력 뉴런 1개\n",
    "        )\n",
    "    def forward(self, x):\n",
    "        return self.net(x)\n",
    "\n",
    "model = DiabetesNetReg(input_dim=X_train.shape[1])"
   ]
  },
  {
   "cell_type": "code",
   "execution_count": 34,
   "id": "12adcb86-b23c-4fa1-9984-7d810445d34c",
   "metadata": {},
   "outputs": [],
   "source": [
    "# 8. 손실함수와 최적화기 정의\n",
    "criterion = nn.MSELoss()\n",
    "optimizer = optim.Adam(model.parameters(), lr=0.001)"
   ]
  },
  {
   "cell_type": "code",
   "execution_count": 36,
   "id": "078ca810-07f2-419d-91b4-4e951eeb1d48",
   "metadata": {},
   "outputs": [],
   "source": [
    "# 9. 학습 함수 정의\n",
    "def train_reg(model, loader, criterion, optimizer, device):\n",
    "    model.train()\n",
    "    running_loss = 0.0\n",
    "    for data, target in loader:\n",
    "        data, target = data.to(device), target.to(device)\n",
    "        optimizer.zero_grad()\n",
    "        output = model(data)\n",
    "        loss = criterion(output, target)\n",
    "        loss.backward()\n",
    "        optimizer.step()\n",
    "        running_loss += loss.item() * data.size(0)\n",
    "    epoch_loss = running_loss / len(loader.dataset)\n",
    "    return epoch_loss"
   ]
  },
  {
   "cell_type": "code",
   "execution_count": 38,
   "id": "a5246b67-a478-4ebb-ae86-c50b386f722c",
   "metadata": {},
   "outputs": [],
   "source": [
    "# 10. 평가 함수 정의\n",
    "def evaluate_reg(model, loader, criterion, device):\n",
    "    model.eval()\n",
    "    running_loss = 0.0\n",
    "    with torch.no_grad():\n",
    "        for data, target in loader:\n",
    "            data, target = data.to(device), target.to(device)\n",
    "            output = model(data)\n",
    "            loss = criterion(output, target)\n",
    "            running_loss += loss.item() * data.size(0)\n",
    "    epoch_loss = running_loss / len(loader.dataset)\n",
    "    return epoch_loss"
   ]
  },
  {
   "cell_type": "code",
   "execution_count": 40,
   "id": "7b156547-2a0f-4443-bc90-383a5b060288",
   "metadata": {},
   "outputs": [
    {
     "name": "stdout",
     "output_type": "stream",
     "text": [
      "Epoch 01: Train MSE=0.3146, Val MSE=0.2121\n",
      "Epoch 02: Train MSE=0.1954, Val MSE=0.1805\n",
      "Epoch 03: Train MSE=0.1684, Val MSE=0.1719\n",
      "Epoch 04: Train MSE=0.1590, Val MSE=0.1759\n",
      "Epoch 05: Train MSE=0.1563, Val MSE=0.1733\n",
      "Epoch 06: Train MSE=0.1534, Val MSE=0.1754\n",
      "Epoch 07: Train MSE=0.1513, Val MSE=0.1717\n",
      "Epoch 08: Train MSE=0.1488, Val MSE=0.1707\n",
      "Epoch 09: Train MSE=0.1473, Val MSE=0.1707\n",
      "Epoch 10: Train MSE=0.1450, Val MSE=0.1715\n",
      "Epoch 11: Train MSE=0.1445, Val MSE=0.1671\n",
      "Epoch 12: Train MSE=0.1427, Val MSE=0.1727\n",
      "Epoch 13: Train MSE=0.1402, Val MSE=0.1746\n",
      "Epoch 14: Train MSE=0.1406, Val MSE=0.1725\n",
      "Epoch 15: Train MSE=0.1415, Val MSE=0.1750\n",
      "Epoch 16: Train MSE=0.1371, Val MSE=0.1737\n",
      "Epoch 17: Train MSE=0.1358, Val MSE=0.1762\n",
      "Epoch 18: Train MSE=0.1331, Val MSE=0.1751\n",
      "Epoch 19: Train MSE=0.1321, Val MSE=0.1749\n",
      "Epoch 20: Train MSE=0.1307, Val MSE=0.1794\n",
      "Epoch 21: Train MSE=0.1301, Val MSE=0.1738\n",
      "Epoch 22: Train MSE=0.1281, Val MSE=0.1755\n",
      "Epoch 23: Train MSE=0.1272, Val MSE=0.1812\n",
      "Epoch 24: Train MSE=0.1271, Val MSE=0.1815\n",
      "Epoch 25: Train MSE=0.1241, Val MSE=0.1789\n",
      "Epoch 26: Train MSE=0.1228, Val MSE=0.1836\n",
      "Epoch 27: Train MSE=0.1233, Val MSE=0.1813\n",
      "Epoch 28: Train MSE=0.1203, Val MSE=0.1845\n",
      "Epoch 29: Train MSE=0.1192, Val MSE=0.1855\n",
      "Epoch 30: Train MSE=0.1182, Val MSE=0.1825\n",
      "Epoch 31: Train MSE=0.1163, Val MSE=0.1778\n",
      "Epoch 32: Train MSE=0.1172, Val MSE=0.1812\n",
      "Epoch 33: Train MSE=0.1158, Val MSE=0.1786\n",
      "Epoch 34: Train MSE=0.1138, Val MSE=0.1830\n",
      "Epoch 35: Train MSE=0.1127, Val MSE=0.1905\n",
      "Epoch 36: Train MSE=0.1139, Val MSE=0.1809\n",
      "Epoch 37: Train MSE=0.1093, Val MSE=0.1861\n",
      "Epoch 38: Train MSE=0.1085, Val MSE=0.1846\n",
      "Epoch 39: Train MSE=0.1066, Val MSE=0.1879\n",
      "Epoch 40: Train MSE=0.1083, Val MSE=0.1834\n",
      "Epoch 41: Train MSE=0.1055, Val MSE=0.1875\n",
      "Epoch 42: Train MSE=0.1026, Val MSE=0.1862\n",
      "Epoch 43: Train MSE=0.1029, Val MSE=0.1974\n",
      "Epoch 44: Train MSE=0.1046, Val MSE=0.1878\n",
      "Epoch 45: Train MSE=0.0995, Val MSE=0.1852\n",
      "Epoch 46: Train MSE=0.0984, Val MSE=0.1874\n",
      "Epoch 47: Train MSE=0.0962, Val MSE=0.1897\n",
      "Epoch 48: Train MSE=0.0941, Val MSE=0.1895\n",
      "Epoch 49: Train MSE=0.0964, Val MSE=0.1841\n",
      "Epoch 50: Train MSE=0.0953, Val MSE=0.1861\n"
     ]
    }
   ],
   "source": [
    "# 11. 학습 루프 실행\n",
    "device = torch.device('cuda' if torch.cuda.is_available() else 'cpu')\n",
    "model.to(device)\n",
    "num_epochs = 50\n",
    "for epoch in range(1, num_epochs + 1):\n",
    "    train_loss = train_reg(model, train_loader, criterion, optimizer, device)\n",
    "    val_loss = evaluate_reg(model, test_loader, criterion, device)\n",
    "    print(f'Epoch {epoch:02d}: Train MSE={train_loss:.4f}, Val MSE={val_loss:.4f}')"
   ]
  },
  {
   "cell_type": "code",
   "execution_count": 42,
   "id": "5cde11dc-ffef-47a9-a9ff-ca116e973897",
   "metadata": {},
   "outputs": [
    {
     "name": "stdout",
     "output_type": "stream",
     "text": [
      "\n",
      "최종 테스트 MSE: 0.1861\n"
     ]
    }
   ],
   "source": [
    "# 최종 평가\n",
    "final_loss = evaluate_reg(model, test_loader, criterion, device)\n",
    "print(f\"\\n최종 테스트 MSE: {final_loss:.4f}\")"
   ]
  },
  {
   "cell_type": "code",
   "execution_count": null,
   "id": "2666ad10-0276-409d-b602-e9b1c7976813",
   "metadata": {},
   "outputs": [],
   "source": []
  }
 ],
 "metadata": {
  "kernelspec": {
   "display_name": "Python [conda env:base] *",
   "language": "python",
   "name": "conda-base-py"
  },
  "language_info": {
   "codemirror_mode": {
    "name": "ipython",
    "version": 3
   },
   "file_extension": ".py",
   "mimetype": "text/x-python",
   "name": "python",
   "nbconvert_exporter": "python",
   "pygments_lexer": "ipython3",
   "version": "3.12.2"
  }
 },
 "nbformat": 4,
 "nbformat_minor": 5
}
