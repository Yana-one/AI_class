{
 "cells": [
  {
   "cell_type": "code",
   "execution_count": 29,
   "id": "690edf2d-7589-4a42-a6df-1b783c037e04",
   "metadata": {},
   "outputs": [
    {
     "name": "stdout",
     "output_type": "stream",
     "text": [
      "Requirement already satisfied: torch in /opt/anaconda3/lib/python3.12/site-packages (2.6.0)\n",
      "Requirement already satisfied: torchvision in /opt/anaconda3/lib/python3.12/site-packages (0.21.0)\n",
      "Requirement already satisfied: torchaudio in /opt/anaconda3/lib/python3.12/site-packages (2.6.0)\n",
      "Requirement already satisfied: filelock in /opt/anaconda3/lib/python3.12/site-packages (from torch) (3.13.1)\n",
      "Requirement already satisfied: typing-extensions>=4.10.0 in /opt/anaconda3/lib/python3.12/site-packages (from torch) (4.11.0)\n",
      "Requirement already satisfied: networkx in /opt/anaconda3/lib/python3.12/site-packages (from torch) (3.3)\n",
      "Requirement already satisfied: jinja2 in /opt/anaconda3/lib/python3.12/site-packages (from torch) (3.1.4)\n",
      "Requirement already satisfied: fsspec in /opt/anaconda3/lib/python3.12/site-packages (from torch) (2024.6.1)\n",
      "Requirement already satisfied: setuptools in /opt/anaconda3/lib/python3.12/site-packages (from torch) (75.1.0)\n",
      "Requirement already satisfied: sympy==1.13.1 in /opt/anaconda3/lib/python3.12/site-packages (from torch) (1.13.1)\n",
      "Requirement already satisfied: mpmath<1.4,>=1.1.0 in /opt/anaconda3/lib/python3.12/site-packages (from sympy==1.13.1->torch) (1.3.0)\n",
      "Requirement already satisfied: numpy in /opt/anaconda3/lib/python3.12/site-packages (from torchvision) (1.26.4)\n",
      "Requirement already satisfied: pillow!=8.3.*,>=5.3.0 in /opt/anaconda3/lib/python3.12/site-packages (from torchvision) (10.4.0)\n",
      "Requirement already satisfied: MarkupSafe>=2.0 in /opt/anaconda3/lib/python3.12/site-packages (from jinja2->torch) (2.1.3)\n",
      "Note: you may need to restart the kernel to use updated packages.\n"
     ]
    }
   ],
   "source": [
    "pip install torch torchvision torchaudio"
   ]
  },
  {
   "cell_type": "code",
   "execution_count": 30,
   "id": "029de2b7-f840-46a6-a062-f7a63478e647",
   "metadata": {},
   "outputs": [],
   "source": [
    "import pandas as pd\n",
    "import numpy as np\n",
    "import torch\n",
    "import torch.nn as nn\n",
    "import torch.optim as optim\n",
    "from torch.utils.data import Dataset, DataLoader\n",
    "from sklearn.model_selection import train_test_split\n",
    "from sklearn.preprocessing import StandardScaler"
   ]
  },
  {
   "cell_type": "code",
   "execution_count": 31,
   "id": "dbb5f81c-cdf5-48d9-a8ba-4c6d9226f90c",
   "metadata": {},
   "outputs": [
    {
     "name": "stdout",
     "output_type": "stream",
     "text": [
      "✅ 데이터 로딩 완료\n",
      "   Pregnancies  Glucose  BloodPressure  SkinThickness  Insulin   BMI  \\\n",
      "0            6      148             72             35        0  33.6   \n",
      "1            1       85             66             29        0  26.6   \n",
      "2            8      183             64              0        0  23.3   \n",
      "3            1       89             66             23       94  28.1   \n",
      "4            0      137             40             35      168  43.1   \n",
      "\n",
      "   DiabetesPedigreeFunction  Age  Outcome  \n",
      "0                     0.627   50        1  \n",
      "1                     0.351   31        0  \n",
      "2                     0.672   32        1  \n",
      "3                     0.167   21        0  \n",
      "4                     2.288   33        1  \n"
     ]
    }
   ],
   "source": [
    "# 1. 데이터 로딩\n",
    "url = \"https://raw.githubusercontent.com/MyungKyuYi/AI-class/refs/heads/main/diabetes.csv\"\n",
    "df = pd.read_csv(url)\n",
    "print(\"✅ 데이터 로딩 완료\")\n",
    "print(df.head())"
   ]
  },
  {
   "cell_type": "code",
   "execution_count": 32,
   "id": "13caf1be-b171-42c4-a0a4-8a16ead8b3c4",
   "metadata": {},
   "outputs": [
    {
     "data": {
      "text/plain": [
       "Index(['Pregnancies', 'Glucose', 'BloodPressure', 'SkinThickness', 'Insulin',\n",
       "       'BMI', 'DiabetesPedigreeFunction', 'Age', 'Outcome'],\n",
       "      dtype='object')"
      ]
     },
     "execution_count": 32,
     "metadata": {},
     "output_type": "execute_result"
    }
   ],
   "source": [
    "df.columns"
   ]
  },
  {
   "cell_type": "code",
   "execution_count": 33,
   "id": "cb87263b-3281-4edc-924c-d2f4f8be99e0",
   "metadata": {},
   "outputs": [],
   "source": [
    "# 특성(X)와 레이블(y) 분리\n",
    "X = df.drop('Outcome', axis=1).values\n",
    "y = df['Outcome'].values"
   ]
  },
  {
   "cell_type": "code",
   "execution_count": 34,
   "id": "4fcf9fad-6fbe-492c-8daa-5b2b9eb35678",
   "metadata": {},
   "outputs": [],
   "source": [
    "# 학습/테스트 데이터 분리 (예: 80:20)\n",
    "X_train, X_test, y_train, y_test = train_test_split(X, y, test_size=0.2, random_state=42, stratify=y)"
   ]
  },
  {
   "cell_type": "code",
   "execution_count": 35,
   "id": "aaf23d6d-2d28-431a-bb79-b686ecd058b9",
   "metadata": {},
   "outputs": [],
   "source": [
    "# 특성 정규화: 평균 0, 분산 1 기준 표준화 진행 (훈련 데이터에 대해 fit 후 test 데이터에 적용)\n",
    "scaler = StandardScaler()\n",
    "X_train = scaler.fit_transform(X_train)\n",
    "X_test = scaler.transform(X_test)"
   ]
  },
  {
   "cell_type": "code",
   "execution_count": 36,
   "id": "c026f7d3-3c53-49a0-8686-0ed81a8391d6",
   "metadata": {},
   "outputs": [],
   "source": [
    "# numpy의 타입을 torch Tensor로 변환\n",
    "X_train = torch.tensor(X_train, dtype=torch.float32)\n",
    "y_train = torch.tensor(y_train, dtype=torch.long)  # 분류 문제이므로 long 타입\n",
    "X_test = torch.tensor(X_test, dtype=torch.float32)\n",
    "y_test = torch.tensor(y_test, dtype=torch.long)"
   ]
  },
  {
   "cell_type": "code",
   "execution_count": 37,
   "id": "fbbaf476-debb-4097-907f-c3f8cd255a66",
   "metadata": {},
   "outputs": [],
   "source": [
    "# 2. PyTorch Dataset 클래스 정의\n",
    "class DiabetesDataset(Dataset):\n",
    "    def __init__(self, X, y):\n",
    "        self.X = X\n",
    "        self.y = y\n",
    "        \n",
    "    def __len__(self):\n",
    "        return len(self.y)\n",
    "    \n",
    "    def __getitem__(self, idx):\n",
    "        return self.X[idx], self.y[idx]\n",
    "\n",
    "train_dataset = DiabetesDataset(X_train, y_train)\n",
    "test_dataset = DiabetesDataset(X_test, y_test)"
   ]
  },
  {
   "cell_type": "code",
   "execution_count": 38,
   "id": "3e365d3c-7645-4614-9561-dd8c72e8c2d5",
   "metadata": {},
   "outputs": [],
   "source": [
    "# 3. DataLoader 생성: 배치 사이즈, 셔플 여부 설정\n",
    "train_loader = DataLoader(dataset=train_dataset, batch_size=32, shuffle=True)\n",
    "test_loader = DataLoader(dataset=test_dataset, batch_size=32, shuffle=False)"
   ]
  },
  {
   "cell_type": "markdown",
   "id": "7989c8ea-0db3-43e8-9ce5-3f9e65a4449f",
   "metadata": {},
   "source": [
    "## 모델 정의"
   ]
  },
  {
   "cell_type": "code",
   "execution_count": 40,
   "id": "46e3b36d-2c01-402b-b200-440495513770",
   "metadata": {},
   "outputs": [],
   "source": [
    "# 4. 신경망 모델 정의\n",
    "class DiabetesNet(nn.Module):\n",
    "    def __init__(self, input_dim):\n",
    "        super(DiabetesNet, self).__init__()\n",
    "        self.net = nn.Sequential(\n",
    "            nn.Linear(input_dim, 64),\n",
    "            nn.ReLU(),\n",
    "            nn.Linear(64, 32),\n",
    "            nn.ReLU(),\n",
    "            nn.Linear(32, 2)  # 이진 분류: 출력 차원 2 (각 클래스의 로짓)\n",
    "        )\n",
    "        \n",
    "    def forward(self, x):\n",
    "        return self.net(x)\n",
    "\n",
    "model = DiabetesNet(input_dim=X_train.shape[1])"
   ]
  },
  {
   "cell_type": "markdown",
   "id": "3a194355-6e99-4318-9d29-cef588049b24",
   "metadata": {},
   "source": [
    "## 손실 함수 및 최적화 기법 정의"
   ]
  },
  {
   "cell_type": "code",
   "execution_count": 42,
   "id": "5fb15851-e5ec-4bc0-be43-caf4c0b7a6f4",
   "metadata": {},
   "outputs": [],
   "source": [
    "# 5. 손실 함수와 최적화 기법 정의 (CrossEntropyLoss, Adam)\n",
    "criterion = nn.CrossEntropyLoss()\n",
    "optimizer = optim.Adam(model.parameters(), lr=0.001)"
   ]
  },
  {
   "cell_type": "markdown",
   "id": "2b238d40-8cb4-414b-b8c9-c4d089a23dbc",
   "metadata": {},
   "source": [
    "## 모델 학습"
   ]
  },
  {
   "cell_type": "code",
   "execution_count": 44,
   "id": "ce19d2e4-a10b-4ecb-974a-9c10c7e3c686",
   "metadata": {},
   "outputs": [],
   "source": [
    "# 6. 모델 학습 및 평가 함수 정의\n",
    "def train(model, loader, criterion, optimizer, device):\n",
    "    model.train()\n",
    "    running_loss = 0\n",
    "    for batch_idx, (data, target) in enumerate(loader):\n",
    "        data, target = data.to(device), target.to(device)\n",
    "        optimizer.zero_grad()      # 기울기 초기화\n",
    "        output = model(data)       # 순전파(forward)\n",
    "        loss = criterion(output, target)\n",
    "        loss.backward()            # 역전파(backward)\n",
    "        optimizer.step()           # 가중치 업데이트\n",
    "        running_loss += loss.item() * data.size(0)\n",
    "    epoch_loss = running_loss / len(loader.dataset)\n",
    "    return epoch_loss"
   ]
  },
  {
   "cell_type": "code",
   "execution_count": 45,
   "id": "1b912749-7398-4281-b8f8-8846a90b011f",
   "metadata": {},
   "outputs": [],
   "source": [
    "def evaluate(model, loader, criterion, device):\n",
    "    model.eval()\n",
    "    running_loss = 0\n",
    "    correct = 0\n",
    "    with torch.no_grad():\n",
    "        for data, target in loader:\n",
    "            data, target = data.to(device), target.to(device)\n",
    "            output = model(data)\n",
    "            loss = criterion(output, target)\n",
    "            running_loss += loss.item() * data.size(0)\n",
    "            # 예측: 가장 큰 값의 인덱스로 선택\n",
    "            pred = output.argmax(dim=1, keepdim=True)\n",
    "            correct += pred.eq(target.view_as(pred)).sum().item()\n",
    "    epoch_loss = running_loss / len(loader.dataset)\n",
    "    accuracy = correct / len(loader.dataset)\n",
    "    return epoch_loss, accuracy\n"
   ]
  },
  {
   "cell_type": "code",
   "execution_count": 46,
   "id": "19ef0481-4771-43e0-a108-d0c91e733bd4",
   "metadata": {},
   "outputs": [
    {
     "name": "stdout",
     "output_type": "stream",
     "text": [
      "Epoch 01: Train Loss=0.6743, Test Loss=0.6414, Test Acc=0.6753\n",
      "Epoch 02: Train Loss=0.6085, Test Loss=0.5805, Test Acc=0.7078\n",
      "Epoch 03: Train Loss=0.5391, Test Loss=0.5289, Test Acc=0.7208\n",
      "Epoch 04: Train Loss=0.4932, Test Loss=0.5122, Test Acc=0.7403\n",
      "Epoch 05: Train Loss=0.4677, Test Loss=0.4962, Test Acc=0.7208\n",
      "Epoch 06: Train Loss=0.4555, Test Loss=0.4944, Test Acc=0.7208\n",
      "Epoch 07: Train Loss=0.4496, Test Loss=0.4902, Test Acc=0.7208\n",
      "Epoch 08: Train Loss=0.4453, Test Loss=0.4840, Test Acc=0.7143\n",
      "Epoch 09: Train Loss=0.4436, Test Loss=0.4888, Test Acc=0.7273\n",
      "Epoch 10: Train Loss=0.4383, Test Loss=0.4950, Test Acc=0.7208\n",
      "Epoch 11: Train Loss=0.4341, Test Loss=0.4972, Test Acc=0.7273\n",
      "Epoch 12: Train Loss=0.4331, Test Loss=0.4956, Test Acc=0.7143\n",
      "Epoch 13: Train Loss=0.4269, Test Loss=0.4968, Test Acc=0.7208\n",
      "Epoch 14: Train Loss=0.4254, Test Loss=0.5069, Test Acc=0.7208\n",
      "Epoch 15: Train Loss=0.4238, Test Loss=0.5098, Test Acc=0.7143\n",
      "Epoch 16: Train Loss=0.4210, Test Loss=0.5035, Test Acc=0.7338\n",
      "Epoch 17: Train Loss=0.4197, Test Loss=0.5048, Test Acc=0.7338\n",
      "Epoch 18: Train Loss=0.4156, Test Loss=0.4994, Test Acc=0.7403\n",
      "Epoch 19: Train Loss=0.4109, Test Loss=0.5051, Test Acc=0.7403\n",
      "Epoch 20: Train Loss=0.4124, Test Loss=0.5031, Test Acc=0.7468\n",
      "Epoch 21: Train Loss=0.4064, Test Loss=0.5057, Test Acc=0.7338\n",
      "Epoch 22: Train Loss=0.4038, Test Loss=0.5147, Test Acc=0.7208\n",
      "Epoch 23: Train Loss=0.4029, Test Loss=0.5089, Test Acc=0.7403\n",
      "Epoch 24: Train Loss=0.3993, Test Loss=0.5096, Test Acc=0.7403\n",
      "Epoch 25: Train Loss=0.3965, Test Loss=0.5118, Test Acc=0.7338\n",
      "Epoch 26: Train Loss=0.3987, Test Loss=0.5096, Test Acc=0.7403\n",
      "Epoch 27: Train Loss=0.3921, Test Loss=0.5208, Test Acc=0.7338\n",
      "Epoch 28: Train Loss=0.3882, Test Loss=0.5168, Test Acc=0.7403\n",
      "Epoch 29: Train Loss=0.3887, Test Loss=0.5260, Test Acc=0.7273\n",
      "Epoch 30: Train Loss=0.3868, Test Loss=0.5134, Test Acc=0.7532\n",
      "Epoch 31: Train Loss=0.3813, Test Loss=0.5255, Test Acc=0.7403\n",
      "Epoch 32: Train Loss=0.3798, Test Loss=0.5251, Test Acc=0.7338\n",
      "Epoch 33: Train Loss=0.3794, Test Loss=0.5234, Test Acc=0.7338\n",
      "Epoch 34: Train Loss=0.3793, Test Loss=0.5329, Test Acc=0.7273\n",
      "Epoch 35: Train Loss=0.3788, Test Loss=0.5262, Test Acc=0.7403\n",
      "Epoch 36: Train Loss=0.3761, Test Loss=0.5324, Test Acc=0.7273\n",
      "Epoch 37: Train Loss=0.3710, Test Loss=0.5342, Test Acc=0.7338\n",
      "Epoch 38: Train Loss=0.3652, Test Loss=0.5342, Test Acc=0.7338\n",
      "Epoch 39: Train Loss=0.3650, Test Loss=0.5370, Test Acc=0.7273\n",
      "Epoch 40: Train Loss=0.3617, Test Loss=0.5363, Test Acc=0.7338\n",
      "Epoch 41: Train Loss=0.3583, Test Loss=0.5349, Test Acc=0.7468\n",
      "Epoch 42: Train Loss=0.3584, Test Loss=0.5417, Test Acc=0.7403\n",
      "Epoch 43: Train Loss=0.3547, Test Loss=0.5436, Test Acc=0.7338\n",
      "Epoch 44: Train Loss=0.3539, Test Loss=0.5321, Test Acc=0.7338\n",
      "Epoch 45: Train Loss=0.3549, Test Loss=0.5608, Test Acc=0.7273\n",
      "Epoch 46: Train Loss=0.3499, Test Loss=0.5432, Test Acc=0.7403\n",
      "Epoch 47: Train Loss=0.3460, Test Loss=0.5463, Test Acc=0.7403\n",
      "Epoch 48: Train Loss=0.3438, Test Loss=0.5462, Test Acc=0.7338\n",
      "Epoch 49: Train Loss=0.3430, Test Loss=0.5530, Test Acc=0.7273\n",
      "Epoch 50: Train Loss=0.3389, Test Loss=0.5498, Test Acc=0.7468\n"
     ]
    }
   ],
   "source": [
    "# 7. 학습 루프 실행\n",
    "device = torch.device('cuda' if torch.cuda.is_available() else 'cpu')\n",
    "model.to(device)\n",
    "\n",
    "num_epochs = 50\n",
    "for epoch in range(1, num_epochs+1):\n",
    "    train_loss = train(model, train_loader, criterion, optimizer, device)\n",
    "    test_loss, test_acc = evaluate(model, test_loader, criterion, device)\n",
    "    print(f'Epoch {epoch:02d}: Train Loss={train_loss:.4f}, Test Loss={test_loss:.4f}, Test Acc={test_acc:.4f}')"
   ]
  },
  {
   "cell_type": "markdown",
   "id": "66368bba-2f54-4f09-b5ff-898538926b8d",
   "metadata": {},
   "source": [
    "## 모델 평가"
   ]
  },
  {
   "cell_type": "code",
   "execution_count": 48,
   "id": "f4b12ad8-856d-4deb-92e4-e0616d99cb58",
   "metadata": {},
   "outputs": [
    {
     "name": "stdout",
     "output_type": "stream",
     "text": [
      "\n",
      "Final Test Loss: 0.5498\n",
      "Final Test Accuracy: 0.7468\n"
     ]
    }
   ],
   "source": [
    "# 최종 평가: 테스트 데이터셋에 대한 정확도 출력\n",
    "final_test_loss, final_test_acc = evaluate(model, test_loader, criterion, device)\n",
    "print(f'\\nFinal Test Loss: {final_test_loss:.4f}')\n",
    "print(f'Final Test Accuracy: {final_test_acc:.4f}')"
   ]
  },
  {
   "cell_type": "code",
   "execution_count": null,
   "id": "60a809e8-0b4b-40ba-a61b-736682efacde",
   "metadata": {},
   "outputs": [],
   "source": []
  }
 ],
 "metadata": {
  "kernelspec": {
   "display_name": "Python [conda env:base] *",
   "language": "python",
   "name": "conda-base-py"
  },
  "language_info": {
   "codemirror_mode": {
    "name": "ipython",
    "version": 3
   },
   "file_extension": ".py",
   "mimetype": "text/x-python",
   "name": "python",
   "nbconvert_exporter": "python",
   "pygments_lexer": "ipython3",
   "version": "3.12.2"
  }
 },
 "nbformat": 4,
 "nbformat_minor": 5
}
