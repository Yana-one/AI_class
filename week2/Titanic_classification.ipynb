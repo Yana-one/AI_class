{
 "cells": [
  {
   "cell_type": "markdown",
   "id": "7b9426a3-6464-43f1-9cf6-e1c84b6bf9ff",
   "metadata": {},
   "source": [
    "# Tictanic 분류 모델 구축\n",
    "### 진행 단계:\n",
    "1. 데이터 로딩\n",
    "2. 결측치 확인\n",
    "3. 결측치 처리 (Age 컬럼은 평균값으로 채우고, 나머지 결측치는 제거)\n",
    "4. 레이블(생존 여부) 분포 확인 (불균형 데이터 확인)\n",
    "5. 불필요한 컬럼 제거 (PassengerId, Name, Ticket, Cabin)\n",
    "6. 범주형 변수 숫자 인코딩 (인코딩 전/후 레이블 분포 확인)\n",
    "7. 5가지 분류 모델 (Random Forest, Decision Tree, Logistic Regression, KNN, SVM) 학습 및 평가"
   ]
  },
  {
   "cell_type": "code",
   "execution_count": 93,
   "id": "9826d958-0cc3-49f3-ba76-0343e7013ce0",
   "metadata": {},
   "outputs": [],
   "source": [
    "import pandas as pd\n",
    "import numpy as np\n",
    "import matplotlib.pyplot as plt\n",
    "import seaborn as sns"
   ]
  },
  {
   "cell_type": "code",
   "execution_count": 99,
   "id": "c0340a6c-305c-49d6-948c-f5896d28b9fe",
   "metadata": {},
   "outputs": [
    {
     "name": "stdout",
     "output_type": "stream",
     "text": [
      "=== 데이터 로딩 완료 ===\n",
      "   PassengerId  Survived  Pclass  \\\n",
      "0            1         0       3   \n",
      "1            2         1       1   \n",
      "2            3         1       3   \n",
      "3            4         1       1   \n",
      "4            5         0       3   \n",
      "\n",
      "                                                Name     Sex   Age  SibSp  \\\n",
      "0                            Braund, Mr. Owen Harris    male  22.0      1   \n",
      "1  Cumings, Mrs. John Bradley (Florence Briggs Th...  female  38.0      1   \n",
      "2                             Heikkinen, Miss. Laina  female  26.0      0   \n",
      "3       Futrelle, Mrs. Jacques Heath (Lily May Peel)  female  35.0      1   \n",
      "4                           Allen, Mr. William Henry    male  35.0      0   \n",
      "\n",
      "   Parch            Ticket     Fare Cabin Embarked  \n",
      "0      0         A/5 21171   7.2500   NaN        S  \n",
      "1      0          PC 17599  71.2833   C85        C  \n",
      "2      0  STON/O2. 3101282   7.9250   NaN        S  \n",
      "3      0            113803  53.1000  C123        S  \n",
      "4      0            373450   8.0500   NaN        S  \n"
     ]
    }
   ],
   "source": [
    "# 1. 데이터 로딩\n",
    "url = \"https://raw.githubusercontent.com/MyungKyuYi/AI-class/refs/heads/main/titanic.csv\"\n",
    "df = pd.read_csv(url)\n",
    "print(\"=== 데이터 로딩 완료 ===\")\n",
    "print(df.head())"
   ]
  },
  {
   "cell_type": "code",
   "execution_count": 101,
   "id": "0d945b9e-97e5-49e2-846b-d21cc2a7239e",
   "metadata": {},
   "outputs": [
    {
     "name": "stdout",
     "output_type": "stream",
     "text": [
      "=== 결측치 확인 ===\n",
      "PassengerId      0\n",
      "Survived         0\n",
      "Pclass           0\n",
      "Name             0\n",
      "Sex              0\n",
      "Age            177\n",
      "SibSp            0\n",
      "Parch            0\n",
      "Ticket           0\n",
      "Fare             0\n",
      "Cabin          687\n",
      "Embarked         2\n",
      "dtype: int64\n"
     ]
    }
   ],
   "source": [
    "# 2. 결측치 확인\n",
    "print(\"=== 결측치 확인 ===\")\n",
    "print(df.isnull().sum())"
   ]
  },
  {
   "cell_type": "code",
   "execution_count": 103,
   "id": "783f78b1-53c2-47db-8bbb-7fb04a6c071d",
   "metadata": {},
   "outputs": [
    {
     "name": "stdout",
     "output_type": "stream",
     "text": [
      "=== 결측치 처리 후 ===\n",
      "PassengerId    0\n",
      "Survived       0\n",
      "Pclass         0\n",
      "Name           0\n",
      "Sex            0\n",
      "Age            0\n",
      "SibSp          0\n",
      "Parch          0\n",
      "Ticket         0\n",
      "Fare           0\n",
      "Cabin          0\n",
      "Embarked       0\n",
      "dtype: int64\n"
     ]
    }
   ],
   "source": [
    "# 3. 결측치 처리\n",
    "# Age 컬럼의 결측치를 평균값으로 채우기\n",
    "mean_age = df['age'].mean()\n",
    "df['Age'] = df['Age'].fillna(mean_age)\n",
    "df = df.dropna()  # Age 외의 다른 결측치가 있는 행 제거\n",
    "print(\"=== 결측치 처리 후 ===\")\n",
    "print(df.isnull().sum())"
   ]
  },
  {
   "cell_type": "code",
   "execution_count": 109,
   "id": "a2aa6db6-bbae-432d-8e22-3e6ea161c6d2",
   "metadata": {},
   "outputs": [
    {
     "name": "stdout",
     "output_type": "stream",
     "text": [
      "=== 레이블 분포 (변환 전) ===\n",
      "Survived\n",
      "1    134\n",
      "0     68\n",
      "Name: count, dtype: int64\n"
     ]
    }
   ],
   "source": [
    "# 4. 레이블 확인 (불균형 데이터 확인)\n",
    "# Titanic 데이터셋에서는 'Survived'컬럼이 레이블로 사용됨\n",
    "print(\"=== 레이블 분포 (변환 전) ===\")\n",
    "print(df['Survived'].value_counts())\n",
    "# 레이블 컬럼명을 'label'로 변경\n",
    "df.rename(columns={\"Survived\": \"label\"}, inplace=True)\n"
   ]
  },
  {
   "cell_type": "code",
   "execution_count": 121,
   "id": "84f8c426-acee-4408-a6e3-91ad12a8418f",
   "metadata": {},
   "outputs": [
    {
     "name": "stdout",
     "output_type": "stream",
     "text": [
      "=== 불필요한 컬럼 제거 후 ===\n",
      "Index(['label', 'Pclass', 'Sex', 'Age', 'SibSp', 'Parch', 'Fare', 'Embarked'], dtype='object')\n"
     ]
    }
   ],
   "source": [
    "# 5. 불필요한 컬럼 제거\n",
    "cols_to_drop = ['PassengerId', 'Name', 'Ticket', 'Cabin']\n",
    "df = df.drop(columns=cols_to_drop, errors='ignore')\n",
    "print(\"=== 불필요한 컬럼 제거 후 ===\")\n",
    "print(df.columns)"
   ]
  },
  {
   "cell_type": "code",
   "execution_count": 113,
   "id": "c94ea9d9-9219-426d-9379-c2b5cff73a0f",
   "metadata": {},
   "outputs": [
    {
     "name": "stdout",
     "output_type": "stream",
     "text": [
      "=== 레이블 분포 (인코딩 전) ===\n",
      "label\n",
      "1    134\n",
      "0     68\n",
      "Name: count, dtype: int64\n",
      "=== 레이블 분포 (인코딩 후) ===\n",
      "label\n",
      "1    134\n",
      "0     68\n",
      "Name: count, dtype: int64\n"
     ]
    }
   ],
   "source": [
    "# 6. 엔코딩 (숫자 변환)\n",
    "print(\"=== 레이블 분포 (인코딩 전) ===\")\n",
    "print(df['label'].value_counts())\n",
    "\n",
    "# 범주형 변수 (예: Sex, Embarked 등)를 숫자로 변환하기 위해 one-hot 인코딩 사용\n",
    "df_encoded = pd.get_dummies(df, drop_first=True)\n",
    "\n",
    "# 혹시 남아 있을 수 있는 결측치는 채워줍니다.\n",
    "df_encoded = df_encoded.fillna(0)\n",
    "\n",
    "print(\"=== 레이블 분포 (인코딩 후) ===\")\n",
    "print(df_encoded['label'].value_counts())\n"
   ]
  },
  {
   "cell_type": "code",
   "execution_count": 115,
   "id": "1e2154f1-6ae6-4431-8126-015861e32cbc",
   "metadata": {},
   "outputs": [
    {
     "name": "stdout",
     "output_type": "stream",
     "text": [
      "=== 분류 모델 평가 결과 ===\n",
      "Random Forest: Accuracy = 0.7805\n",
      "Confusion Matrix:\n",
      "[[ 6  2]\n",
      " [ 7 26]]\n",
      "\n",
      "\n",
      "Decision Tree: Accuracy = 0.8780\n",
      "Confusion Matrix:\n",
      "[[ 5  3]\n",
      " [ 2 31]]\n",
      "\n",
      "\n",
      "Logistic Regression: Accuracy = 0.8293\n",
      "Confusion Matrix:\n",
      "[[ 5  3]\n",
      " [ 4 29]]\n",
      "\n",
      "\n",
      "KNN: Accuracy = 0.7561\n",
      "Confusion Matrix:\n",
      "[[ 1  7]\n",
      " [ 3 30]]\n",
      "\n",
      "\n",
      "SVM: Accuracy = 0.8049\n",
      "Confusion Matrix:\n",
      "[[ 0  8]\n",
      " [ 0 33]]\n",
      "\n",
      "\n"
     ]
    }
   ],
   "source": [
    "# 7. 분류 모델 학습 및 평가\n",
    "from sklearn.model_selection import train_test_split\n",
    "from sklearn.metrics import accuracy_score, confusion_matrix\n",
    "from sklearn.ensemble import RandomForestClassifier\n",
    "from sklearn.tree import DecisionTreeClassifier\n",
    "from sklearn.linear_model import LogisticRegression\n",
    "from sklearn.neighbors import KNeighborsClassifier\n",
    "from sklearn.svm import SVC\n",
    "\n",
    "# features와 target 분리\n",
    "X = df_encoded.drop('label', axis=1)\n",
    "y = df_encoded['label']\n",
    "\n",
    "# 학습/테스트 세트 분할 (80%/20%)\n",
    "X_train, X_test, y_train, y_test = train_test_split(X, y, test_size=0.2, random_state=42)\n",
    "\n",
    "# 분류 모델 정의\n",
    "models = {\n",
    "    \"Random Forest\": RandomForestClassifier(random_state=42),\n",
    "    \"Decision Tree\": DecisionTreeClassifier(random_state=42),\n",
    "    \"Logistic Regression\": LogisticRegression(max_iter=200, random_state=42),\n",
    "    \"KNN\": KNeighborsClassifier(),\n",
    "    \"SVM\": SVC(random_state=42)\n",
    "}\n",
    "\n",
    "print(\"=== 분류 모델 평가 결과 ===\")\n",
    "for name, model in models.items():\n",
    "    model.fit(X_train, y_train)\n",
    "    y_pred = model.predict(X_test)\n",
    "    acc = accuracy_score(y_test, y_pred)\n",
    "    cm = confusion_matrix(y_test, y_pred)\n",
    "    print(f\"{name}: Accuracy = {acc:.4f}\")\n",
    "    print(\"Confusion Matrix:\")\n",
    "    print(cm)\n",
    "    print(\"\\n\")"
   ]
  },
  {
   "cell_type": "code",
   "execution_count": null,
   "id": "71f6861c-938e-40be-b467-8d511eccf730",
   "metadata": {},
   "outputs": [],
   "source": []
  }
 ],
 "metadata": {
  "kernelspec": {
   "display_name": "Python [conda env:base] *",
   "language": "python",
   "name": "conda-base-py"
  },
  "language_info": {
   "codemirror_mode": {
    "name": "ipython",
    "version": 3
   },
   "file_extension": ".py",
   "mimetype": "text/x-python",
   "name": "python",
   "nbconvert_exporter": "python",
   "pygments_lexer": "ipython3",
   "version": "3.12.7"
  }
 },
 "nbformat": 4,
 "nbformat_minor": 5
}
