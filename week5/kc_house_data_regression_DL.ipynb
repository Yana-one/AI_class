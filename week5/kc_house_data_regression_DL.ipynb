{
 "cells": [
  {
   "cell_type": "code",
   "execution_count": 163,
   "id": "fcb947f9-f41e-4df9-a07a-d08cbbdef3a6",
   "metadata": {},
   "outputs": [],
   "source": [
    "import pandas as pd\n",
    "import numpy as np\n",
    "import tensorflow as tf\n",
    "from tensorflow.keras.models import Sequential\n",
    "from tensorflow.keras.layers import Dense, Dropout\n",
    "from tensorflow.keras.callbacks import EarlyStopping\n",
    "from sklearn.model_selection import train_test_split\n",
    "from sklearn.preprocessing import StandardScaler"
   ]
  },
  {
   "cell_type": "code",
   "execution_count": 164,
   "id": "65ab0322-ef05-4e2d-b4e7-5e558383f395",
   "metadata": {},
   "outputs": [
    {
     "name": "stdout",
     "output_type": "stream",
     "text": [
      "✅ 데이터 로딩 완료\n",
      "           id             date     price  bedrooms  bathrooms  sqft_living  \\\n",
      "0  7129300520  20141013T000000  221900.0         3       1.00         1180   \n",
      "1  6414100192  20141209T000000  538000.0         3       2.25         2570   \n",
      "2  5631500400  20150225T000000  180000.0         2       1.00          770   \n",
      "3  2487200875  20141209T000000  604000.0         4       3.00         1960   \n",
      "4  1954400510  20150218T000000  510000.0         3       2.00         1680   \n",
      "\n",
      "   sqft_lot  floors  waterfront  view  ...  grade  sqft_above  sqft_basement  \\\n",
      "0      5650     1.0           0     0  ...      7        1180              0   \n",
      "1      7242     2.0           0     0  ...      7        2170            400   \n",
      "2     10000     1.0           0     0  ...      6         770              0   \n",
      "3      5000     1.0           0     0  ...      7        1050            910   \n",
      "4      8080     1.0           0     0  ...      8        1680              0   \n",
      "\n",
      "   yr_built  yr_renovated  zipcode      lat     long  sqft_living15  \\\n",
      "0      1955             0    98178  47.5112 -122.257           1340   \n",
      "1      1951          1991    98125  47.7210 -122.319           1690   \n",
      "2      1933             0    98028  47.7379 -122.233           2720   \n",
      "3      1965             0    98136  47.5208 -122.393           1360   \n",
      "4      1987             0    98074  47.6168 -122.045           1800   \n",
      "\n",
      "   sqft_lot15  \n",
      "0        5650  \n",
      "1        7639  \n",
      "2        8062  \n",
      "3        5000  \n",
      "4        7503  \n",
      "\n",
      "[5 rows x 21 columns]\n"
     ]
    }
   ],
   "source": [
    "# 1. 데이터 불러오기\n",
    "url = \"https://raw.githubusercontent.com/MyungKyuYi/AI-class/refs/heads/main/kc_house_data.csv\"\n",
    "df = pd.read_csv(url)\n",
    "print(\"✅ 데이터 로딩 완료\")\n",
    "print(df.head())"
   ]
  },
  {
   "cell_type": "code",
   "execution_count": 165,
   "id": "036dd570-6a11-4f6a-9e05-a7d9ce8ca920",
   "metadata": {},
   "outputs": [
    {
     "name": "stdout",
     "output_type": "stream",
     "text": [
      "['id', 'date', 'price', 'bedrooms', 'bathrooms', 'sqft_living', 'sqft_lot', 'floors', 'waterfront', 'view', 'condition', 'grade', 'sqft_above', 'sqft_basement', 'yr_built', 'yr_renovated', 'zipcode', 'lat', 'long', 'sqft_living15', 'sqft_lot15']\n",
      "id                 int64\n",
      "date              object\n",
      "price            float64\n",
      "bedrooms           int64\n",
      "bathrooms        float64\n",
      "sqft_living        int64\n",
      "sqft_lot           int64\n",
      "floors           float64\n",
      "waterfront         int64\n",
      "view               int64\n",
      "condition          int64\n",
      "grade              int64\n",
      "sqft_above         int64\n",
      "sqft_basement      int64\n",
      "yr_built           int64\n",
      "yr_renovated       int64\n",
      "zipcode            int64\n",
      "lat              float64\n",
      "long             float64\n",
      "sqft_living15      int64\n",
      "sqft_lot15         int64\n",
      "dtype: object\n"
     ]
    }
   ],
   "source": [
    "print(df.columns.tolist())  # 컬럼 이름 확인\n",
    "print(df.dtypes)            # 데이터 타입 확인"
   ]
  },
  {
   "cell_type": "code",
   "execution_count": 166,
   "id": "8364c301-ba1a-4acc-be98-1db746f3c484",
   "metadata": {},
   "outputs": [],
   "source": [
    "# 문자열인 'date' 컬럼 제거\n",
    "if 'date' in df.columns:\n",
    "    df = df.drop(columns=['date'])"
   ]
  },
  {
   "cell_type": "code",
   "execution_count": 167,
   "id": "6034a819-e536-4fdb-9895-71a79e70d69b",
   "metadata": {},
   "outputs": [],
   "source": [
    "# 2. X, y 분리 (price가 예측할 대상)\n",
    "X = df.drop(columns=['price'])\n",
    "y = df['price']"
   ]
  },
  {
   "cell_type": "code",
   "execution_count": 168,
   "id": "09ce1a5c-e845-4980-ba0d-3c1c896c4c5c",
   "metadata": {},
   "outputs": [],
   "source": [
    "# 3. 데이터 분할 (Train/Test)\n",
    "X_train, X_test, y_train, y_test = train_test_split(\n",
    "    X, y, test_size=0.2, random_state=42)"
   ]
  },
  {
   "cell_type": "code",
   "execution_count": 169,
   "id": "9c330702-f3e5-4e42-9948-ed97d602e55c",
   "metadata": {},
   "outputs": [],
   "source": [
    "# 4. 정규화 (스케일링)\n",
    "scaler = StandardScaler()\n",
    "X_train = scaler.fit_transform(X_train)\n",
    "X_test = scaler.transform(X_test)"
   ]
  },
  {
   "cell_type": "code",
   "execution_count": 170,
   "id": "5a0eefaf-b5c3-47aa-ad2f-a6446a1d1a14",
   "metadata": {},
   "outputs": [
    {
     "name": "stderr",
     "output_type": "stream",
     "text": [
      "/opt/anaconda3/lib/python3.12/site-packages/keras/src/layers/core/dense.py:87: UserWarning: Do not pass an `input_shape`/`input_dim` argument to a layer. When using Sequential models, prefer using an `Input(shape)` object as the first layer in the model instead.\n",
      "  super().__init__(activity_regularizer=activity_regularizer, **kwargs)\n"
     ]
    }
   ],
   "source": [
    "# 5. 딥러닝 모델 구성\n",
    "model = Sequential()\n",
    "model.add(Dense(128, activation='relu', input_shape=(X_train.shape[1],)))\n",
    "model.add(Dropout(0.3))\n",
    "model.add(Dense(64, activation='relu'))\n",
    "model.add(Dense(32, activation='relu'))\n",
    "model.add(Dense(1)) # 회귀이므로 활성화함수 없음"
   ]
  },
  {
   "cell_type": "code",
   "execution_count": 171,
   "id": "77750f1f-dac2-490e-8f12-bd9437cc8e5e",
   "metadata": {},
   "outputs": [],
   "source": [
    "# 6. 모델 컴파일\n",
    "model.compile(optimizer='adam',loss='mse',metrics=['mae'])"
   ]
  },
  {
   "cell_type": "code",
   "execution_count": 172,
   "id": "56657266-7a39-41b8-be65-e885edc5fc2a",
   "metadata": {},
   "outputs": [],
   "source": [
    "# 7. 조기종료 콜백\n",
    "early_stop = EarlyStopping(monitor='val_loss', patience=5, restore_best_weights=True)"
   ]
  },
  {
   "cell_type": "code",
   "execution_count": 173,
   "id": "35ac0858-4069-443f-b934-4a12f86be1ef",
   "metadata": {},
   "outputs": [
    {
     "name": "stdout",
     "output_type": "stream",
     "text": [
      "Epoch 1/10\n"
     ]
    },
    {
     "name": "stderr",
     "output_type": "stream",
     "text": [
      "2025-04-02 15:24:22.947544: E tensorflow/core/grappler/optimizers/meta_optimizer.cc:961] PluggableGraphOptimizer failed: INVALID_ARGUMENT: Failed to deserialize the `graph_buf`.\n"
     ]
    },
    {
     "name": "stdout",
     "output_type": "stream",
     "text": [
      "\u001b[1m487/487\u001b[0m \u001b[32m━━━━━━━━━━━━━━━━━━━━\u001b[0m\u001b[37m\u001b[0m \u001b[1m11s\u001b[0m 20ms/step - loss: 400362176512.0000 - mae: 522177.2188 - val_loss: 97168637952.0000 - val_mae: 243669.8438\n",
      "Epoch 2/10\n",
      "\u001b[1m487/487\u001b[0m \u001b[32m━━━━━━━━━━━━━━━━━━━━\u001b[0m\u001b[37m\u001b[0m \u001b[1m9s\u001b[0m 18ms/step - loss: 80436060160.0000 - mae: 211970.7656 - val_loss: 53722058752.0000 - val_mae: 173225.7031\n",
      "Epoch 3/10\n",
      "\u001b[1m487/487\u001b[0m \u001b[32m━━━━━━━━━━━━━━━━━━━━\u001b[0m\u001b[37m\u001b[0m \u001b[1m9s\u001b[0m 18ms/step - loss: 53228326912.0000 - mae: 166425.1250 - val_loss: 44026994688.0000 - val_mae: 152853.8281\n",
      "Epoch 4/10\n",
      "\u001b[1m487/487\u001b[0m \u001b[32m━━━━━━━━━━━━━━━━━━━━\u001b[0m\u001b[37m\u001b[0m \u001b[1m9s\u001b[0m 18ms/step - loss: 45876330496.0000 - mae: 147870.2656 - val_loss: 37747240960.0000 - val_mae: 136888.3906\n",
      "Epoch 5/10\n",
      "\u001b[1m487/487\u001b[0m \u001b[32m━━━━━━━━━━━━━━━━━━━━\u001b[0m\u001b[37m\u001b[0m \u001b[1m9s\u001b[0m 19ms/step - loss: 39969783808.0000 - mae: 132814.3125 - val_loss: 34197397504.0000 - val_mae: 127006.0625\n",
      "Epoch 6/10\n",
      "\u001b[1m487/487\u001b[0m \u001b[32m━━━━━━━━━━━━━━━━━━━━\u001b[0m\u001b[37m\u001b[0m \u001b[1m10s\u001b[0m 20ms/step - loss: 38641999872.0000 - mae: 126307.7031 - val_loss: 31852378112.0000 - val_mae: 120535.0781\n",
      "Epoch 7/10\n",
      "\u001b[1m487/487\u001b[0m \u001b[32m━━━━━━━━━━━━━━━━━━━━\u001b[0m\u001b[37m\u001b[0m \u001b[1m9s\u001b[0m 19ms/step - loss: 37104074752.0000 - mae: 121423.8516 - val_loss: 30566422528.0000 - val_mae: 116675.7578\n",
      "Epoch 8/10\n",
      "\u001b[1m487/487\u001b[0m \u001b[32m━━━━━━━━━━━━━━━━━━━━\u001b[0m\u001b[37m\u001b[0m \u001b[1m9s\u001b[0m 19ms/step - loss: 37039403008.0000 - mae: 120251.4922 - val_loss: 30204766208.0000 - val_mae: 116214.8047\n",
      "Epoch 9/10\n",
      "\u001b[1m487/487\u001b[0m \u001b[32m━━━━━━━━━━━━━━━━━━━━\u001b[0m\u001b[37m\u001b[0m \u001b[1m9s\u001b[0m 19ms/step - loss: 35550859264.0000 - mae: 117977.6406 - val_loss: 29499891712.0000 - val_mae: 114032.7656\n",
      "Epoch 10/10\n",
      "\u001b[1m487/487\u001b[0m \u001b[32m━━━━━━━━━━━━━━━━━━━━\u001b[0m\u001b[37m\u001b[0m \u001b[1m9s\u001b[0m 19ms/step - loss: 35444985856.0000 - mae: 116741.2812 - val_loss: 28998709248.0000 - val_mae: 112571.1953\n"
     ]
    }
   ],
   "source": [
    "# 8. 모델 학습\n",
    "history = model.fit(\n",
    "    X_train, y_train,\n",
    "    validation_split=0.1,\n",
    "    epochs=10,\n",
    "    batch_size=32,\n",
    "    callbacks=[early_stop],\n",
    "    verbose=1\n",
    ")"
   ]
  },
  {
   "cell_type": "code",
   "execution_count": 189,
   "id": "d16fddca-c6d6-4b39-bc03-d0b2c17413b9",
   "metadata": {},
   "outputs": [
    {
     "name": "stdout",
     "output_type": "stream",
     "text": [
      "\u001b[1m136/136\u001b[0m \u001b[32m━━━━━━━━━━━━━━━━━━━━\u001b[0m\u001b[37m\u001b[0m \u001b[1m1s\u001b[0m 5ms/step - loss: 37034295296.0000 - mae: 116568.2188\n",
      "\n",
      " 🧪Test MAE (평균 절대 오차): 114251.72\n"
     ]
    }
   ],
   "source": [
    "# 9. 모델 평가\n",
    "loss, mae = model.evaluate(X_test, y_test)\n",
    "print(f\"\\n 🧪Test MAE (평균 절대 오차): {mae:.2f}\")"
   ]
  },
  {
   "cell_type": "code",
   "execution_count": 191,
   "id": "4394c6f3-7e5f-4d05-a5f5-b161c49ca080",
   "metadata": {},
   "outputs": [
    {
     "name": "stdout",
     "output_type": "stream",
     "text": [
      "\u001b[1m1/1\u001b[0m \u001b[32m━━━━━━━━━━━━━━━━━━━━\u001b[0m\u001b[37m\u001b[0m \u001b[1m0s\u001b[0m 26ms/step\n",
      "\n",
      " 📈예측 결과 (상위 5개):\n",
      "실제 가격: 365,000원 / 예측 가격: 360,410원\n",
      "실제 가격: 865,000원 / 예측 가격: 815,540원\n",
      "실제 가격: 1,038,000원 / 예측 가격: 1,297,296원\n",
      "실제 가격: 1,490,000원 / 예측 가격: 1,865,679원\n",
      "실제 가격: 711,000원 / 예측 가격: 671,952원\n"
     ]
    }
   ],
   "source": [
    "# 10. 예측 예시\n",
    "y_pred = model.predict(X_test[:5])\n",
    "print(\"\\n 📈예측 결과 (상위 5개):\")\n",
    "for i in range(5):\n",
    "    print(f\"실제 가격: {y_test.iloc[i]:,.0f}원 / 예측 가격: {y_pred[i][0]:,.0f}원\")"
   ]
  },
  {
   "cell_type": "code",
   "execution_count": null,
   "id": "8195b903-bf0c-4ed2-97b1-a3b2bf661507",
   "metadata": {},
   "outputs": [],
   "source": []
  }
 ],
 "metadata": {
  "kernelspec": {
   "display_name": "Python [conda env:base] *",
   "language": "python",
   "name": "conda-base-py"
  },
  "language_info": {
   "codemirror_mode": {
    "name": "ipython",
    "version": 3
   },
   "file_extension": ".py",
   "mimetype": "text/x-python",
   "name": "python",
   "nbconvert_exporter": "python",
   "pygments_lexer": "ipython3",
   "version": "3.12.2"
  }
 },
 "nbformat": 4,
 "nbformat_minor": 5
}
