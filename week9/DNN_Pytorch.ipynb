{
 "cells": [
  {
   "cell_type": "code",
   "execution_count": 9,
   "id": "50f903f1-85f0-4edd-b200-649f3fa37dfc",
   "metadata": {},
   "outputs": [],
   "source": [
    "import torch\n",
    "import torch.nn as nn\n",
    "import torch.optim as optim\n",
    "from torch.utils.data import TensorDataset, DataLoader\n",
    "from sklearn import datasets\n",
    "from sklearn.model_selection import train_test_split\n",
    "import matplotlib.pyplot as plt"
   ]
  },
  {
   "cell_type": "code",
   "execution_count": 11,
   "id": "89092d52-724b-4107-bee4-2ec104b81d70",
   "metadata": {},
   "outputs": [],
   "source": [
    "\n",
    "# 1. 데이터 로딩 및 전처리\n",
    "digits = datasets.load_digits()\n",
    "X = digits.images.reshape((len(digits.images), -1)).astype('float32')  # (n_samples, 64)\n",
    "y = digits.target\n",
    "\n",
    "X_train, X_test, y_train, y_test = train_test_split(\n",
    "    X, y, test_size=0.2, random_state=42\n",
    ")"
   ]
  },
  {
   "cell_type": "code",
   "execution_count": 13,
   "id": "6ead4cde-aa6b-4b40-a61e-13ea30836de3",
   "metadata": {},
   "outputs": [],
   "source": [
    "\n",
    "# NumPy → PyTorch 텐서\n",
    "X_train = torch.tensor(X_train)\n",
    "y_train = torch.tensor(y_train, dtype=torch.long)\n",
    "X_test  = torch.tensor(X_test)\n",
    "y_test  = torch.tensor(y_test, dtype=torch.long)\n",
    "\n",
    "train_ds = TensorDataset(X_train, y_train)\n",
    "test_ds  = TensorDataset(X_test, y_test)\n",
    "train_loader = DataLoader(train_ds, batch_size=32, shuffle=True)\n",
    "test_loader  = DataLoader(test_ds, batch_size=32)"
   ]
  },
  {
   "cell_type": "code",
   "execution_count": 15,
   "id": "b9f08570-6578-4770-8a05-cabb910d9c47",
   "metadata": {},
   "outputs": [],
   "source": [
    "\n",
    "# 2. 모델 정의\n",
    "class DigitNet(nn.Module):\n",
    "    def __init__(self):\n",
    "        super().__init__()\n",
    "        self.fc1 = nn.Linear(64, 128)\n",
    "        self.fc2 = nn.Linear(128, 64)\n",
    "        self.fc3 = nn.Linear(64, 10)\n",
    "        self.relu = nn.ReLU()\n",
    "    \n",
    "    def forward(self, x):\n",
    "        x = self.relu(self.fc1(x))\n",
    "        x = self.relu(self.fc2(x))\n",
    "        return self.fc3(x)\n",
    "\n",
    "model = DigitNet()"
   ]
  },
  {
   "cell_type": "code",
   "execution_count": 17,
   "id": "1d1c1b81-996f-4164-bc69-a87cc6b49081",
   "metadata": {},
   "outputs": [],
   "source": [
    "# 3. 손실 함수와 옵티마이저\n",
    "criterion = nn.CrossEntropyLoss()\n",
    "optimizer = optim.Adam(model.parameters(), lr=1e-3)\n"
   ]
  },
  {
   "cell_type": "code",
   "execution_count": 19,
   "id": "73be4cf5-348a-4627-9a35-8e83e2c83576",
   "metadata": {},
   "outputs": [
    {
     "name": "stdout",
     "output_type": "stream",
     "text": [
      "Epoch 1/10 — Loss: 1.1593\n",
      "Epoch 2/10 — Loss: 0.2763\n",
      "Epoch 3/10 — Loss: 0.1427\n",
      "Epoch 4/10 — Loss: 0.1116\n",
      "Epoch 5/10 — Loss: 0.0736\n",
      "Epoch 6/10 — Loss: 0.0519\n",
      "Epoch 7/10 — Loss: 0.0412\n",
      "Epoch 8/10 — Loss: 0.0331\n",
      "Epoch 9/10 — Loss: 0.0248\n",
      "Epoch 10/10 — Loss: 0.0190\n"
     ]
    }
   ],
   "source": [
    "# 4. 학습 루프\n",
    "num_epochs = 10\n",
    "for epoch in range(1, num_epochs+1):\n",
    "    model.train()\n",
    "    total_loss = 0.0\n",
    "    for xb, yb in train_loader:\n",
    "        optimizer.zero_grad()\n",
    "        out = model(xb)\n",
    "        loss = criterion(out, yb)\n",
    "        loss.backward()\n",
    "        optimizer.step()\n",
    "        total_loss += loss.item()\n",
    "    avg_loss = total_loss / len(train_loader)\n",
    "    print(f\"Epoch {epoch}/{num_epochs} — Loss: {avg_loss:.4f}\")"
   ]
  },
  {
   "cell_type": "code",
   "execution_count": 21,
   "id": "a5203960-9721-4189-b777-d82ccbd7c7f4",
   "metadata": {},
   "outputs": [
    {
     "name": "stdout",
     "output_type": "stream",
     "text": [
      "\n",
      "Test Accuracy: 0.9778\n"
     ]
    }
   ],
   "source": [
    "# 5. 평가\n",
    "model.eval()\n",
    "correct = 0\n",
    "total = 0\n",
    "with torch.no_grad():\n",
    "    for xb, yb in test_loader:\n",
    "        out = model(xb)\n",
    "        pred = out.argmax(dim=1)\n",
    "        total += yb.size(0)\n",
    "        correct += (pred == yb).sum().item()\n",
    "print(f\"\\nTest Accuracy: {correct/total:.4f}\")"
   ]
  },
  {
   "cell_type": "code",
   "execution_count": 23,
   "id": "3553da42-29d9-4521-b0d3-321976c42e7c",
   "metadata": {},
   "outputs": [
    {
     "data": {
      "image/png": "[encoded data removed]",
      "text/plain": [
       "<Figure size 640x480 with 1 Axes>"
      ]
     },
     "metadata": {},
     "output_type": "display_data"
    }
   ],
   "source": [
    "# 6. 예시 시각화\n",
    "idx = 10\n",
    "plt.imshow(X_test[idx].reshape(8,8), cmap=plt.cm.gray_r, interpolation='nearest')\n",
    "plt.title(f\"True: {y_test[idx].item()}, Pred: {model(X_test[idx].unsqueeze(0)).argmax():d}\")\n",
    "plt.axis('off')\n",
    "plt.show()"
   ]
  },
  {
   "cell_type": "code",
   "execution_count": null,
   "id": "d3af5bfa-1f19-4e88-9e29-1581ee21dfbd",
   "metadata": {},
   "outputs": [],
   "source": []
  }
 ],
 "metadata": {
  "kernelspec": {
   "display_name": "Python [conda env:base] *",
   "language": "python",
   "name": "conda-base-py"
  },
  "language_info": {
   "codemirror_mode": {
    "name": "ipython",
    "version": 3
   },
   "file_extension": ".py",
   "mimetype": "text/x-python",
   "name": "python",
   "nbconvert_exporter": "python",
   "pygments_lexer": "ipython3",
   "version": "3.12.2"
  }
 },
 "nbformat": 4,
 "nbformat_minor": 5
}
