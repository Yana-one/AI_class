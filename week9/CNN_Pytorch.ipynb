{
 "cells": [
  {
   "cell_type": "code",
   "execution_count": 17,
   "id": "5a0cf613-b70f-4d72-ba93-d0a5295eed34",
   "metadata": {},
   "outputs": [],
   "source": [
    "import torch\n",
    "import torch.nn as nn\n",
    "import torch.optim as optim\n",
    "from torch.utils.data import DataLoader\n",
    "from torchvision import datasets, transforms"
   ]
  },
  {
   "cell_type": "code",
   "execution_count": 19,
   "id": "6577aa30-b99a-4e28-aa23-33a26b998cc3",
   "metadata": {},
   "outputs": [
    {
     "name": "stderr",
     "output_type": "stream",
     "text": [
      "100%|██████████| 9.91M/9.91M [00:02<00:00, 4.52MB/s]\n",
      "100%|██████████| 28.9k/28.9k [00:00<00:00, 141kB/s]\n",
      "100%|██████████| 1.65M/1.65M [00:01<00:00, 1.40MB/s]\n",
      "100%|██████████| 4.54k/4.54k [00:00<00:00, 3.81MB/s]\n"
     ]
    }
   ],
   "source": [
    "# 1. 데이터를 불러오고 전처리합니다.\n",
    "transform = transforms.Compose([\n",
    "    transforms.ToTensor(),                # [0,255] -> [0.0,1.0]\n",
    "    transforms.Normalize((0.1307,), (0.3081,))  # MNIST 평균/표준편차\n",
    "])\n",
    "\n",
    "train_dataset = datasets.MNIST(root='./data', train=True, download=True, transform=transform)\n",
    "test_dataset  = datasets.MNIST(root='./data', train=False, download=True, transform=transform)\n",
    "\n",
    "train_loader = DataLoader(train_dataset, batch_size=64, shuffle=True,  num_workers=2)\n",
    "test_loader  = DataLoader(test_dataset,  batch_size=1000, shuffle=False, num_workers=2)\n"
   ]
  },
  {
   "cell_type": "code",
   "execution_count": 21,
   "id": "6e2b6696-4956-400f-9302-1ce727122479",
   "metadata": {},
   "outputs": [],
   "source": [
    "# 2. CNN 모델 정의\n",
    "class CNNNet(nn.Module):\n",
    "    def __init__(self):\n",
    "        super().__init__()\n",
    "        # conv block 1: 1×28×28 → 32×26×26 → 32×13×13\n",
    "        self.conv1 = nn.Conv2d(1, 32, kernel_size=3, padding=0)\n",
    "        self.pool1 = nn.MaxPool2d(2, 2)\n",
    "        # conv block 2: 32×13×13 → 64×11×11 → 64×5×5\n",
    "        self.conv2 = nn.Conv2d(32, 64, kernel_size=3, padding=0)\n",
    "        self.pool2 = nn.MaxPool2d(2, 2)\n",
    "        # conv block 3: 64×5×5 → 64×3×3\n",
    "        self.conv3 = nn.Conv2d(64, 64, kernel_size=3, padding=0)\n",
    "        # 완전연결\n",
    "        self.fc1 = nn.Linear(64 * 3 * 3, 64)\n",
    "        self.fc2 = nn.Linear(64, 10)\n",
    "        self.relu = nn.ReLU()\n",
    "\n",
    "    def forward(self, x):\n",
    "        x = self.relu(self.conv1(x))\n",
    "        x = self.pool1(x)\n",
    "        x = self.relu(self.conv2(x))\n",
    "        x = self.pool2(x)\n",
    "        x = self.relu(self.conv3(x))\n",
    "        x = x.view(x.size(0), -1)   # flatten\n",
    "        x = self.relu(self.fc1(x))\n",
    "        x = self.fc2(x)\n",
    "        return x"
   ]
  },
  {
   "cell_type": "code",
   "execution_count": 23,
   "id": "82780cf5-9521-4d07-b36b-bcafb06e48e6",
   "metadata": {},
   "outputs": [],
   "source": [
    "device = torch.device('cuda' if torch.cuda.is_available() else 'cpu')\n",
    "model = CNNNet().to(device)"
   ]
  },
  {
   "cell_type": "code",
   "execution_count": 25,
   "id": "024b8dac-cbe2-4d2b-b7e6-a75e35e09c34",
   "metadata": {},
   "outputs": [],
   "source": [
    "# 3. 손실함수, 옵티마이저 설정\n",
    "criterion = nn.CrossEntropyLoss()\n",
    "optimizer = optim.Adam(model.parameters(), lr=1e-3)"
   ]
  },
  {
   "cell_type": "code",
   "execution_count": 27,
   "id": "476f170d-cd61-45d3-b62d-ae571b08678b",
   "metadata": {},
   "outputs": [],
   "source": [
    "# 4. 학습 함수\n",
    "def train(epoch):\n",
    "    model.train()\n",
    "    total_loss = 0\n",
    "    for batch_idx, (imgs, labels) in enumerate(train_loader, 1):\n",
    "        imgs, labels = imgs.to(device), labels.to(device)\n",
    "        optimizer.zero_grad()\n",
    "        outputs = model(imgs)\n",
    "        loss = criterion(outputs, labels)\n",
    "        loss.backward()\n",
    "        optimizer.step()\n",
    "        total_loss += loss.item()\n",
    "    avg_loss = total_loss / len(train_loader)\n",
    "    print(f'[{epoch}] Train Loss: {avg_loss:.4f}')"
   ]
  },
  {
   "cell_type": "code",
   "execution_count": 29,
   "id": "4e54be90-e1fb-4951-9e0c-4a923d1a3238",
   "metadata": {},
   "outputs": [],
   "source": [
    "# 5. 평가 함수\n",
    "def test():\n",
    "    model.eval()\n",
    "    correct = 0\n",
    "    total = 0\n",
    "    with torch.no_grad():\n",
    "        for imgs, labels in test_loader:\n",
    "            imgs, labels = imgs.to(device), labels.to(device)\n",
    "            outputs = model(imgs)\n",
    "            preds = outputs.argmax(dim=1)\n",
    "            correct += (preds == labels).sum().item()\n",
    "            total += labels.size(0)\n",
    "    acc = correct / total\n",
    "    print(f'  → Test Accuracy: {acc:.4f}')"
   ]
  },
  {
   "cell_type": "code",
   "execution_count": 31,
   "id": "f4a06cb5-9b6a-4b3a-8495-55917aadc855",
   "metadata": {},
   "outputs": [
    {
     "name": "stdout",
     "output_type": "stream",
     "text": [
      "[1] Train Loss: 0.1692\n",
      "  → Test Accuracy: 0.9827\n",
      "[2] Train Loss: 0.0475\n",
      "  → Test Accuracy: 0.9882\n",
      "[3] Train Loss: 0.0343\n",
      "  → Test Accuracy: 0.9911\n",
      "[4] Train Loss: 0.0264\n",
      "  → Test Accuracy: 0.9903\n",
      "[5] Train Loss: 0.0220\n",
      "  → Test Accuracy: 0.9900\n"
     ]
    }
   ],
   "source": [
    "# 6. 실제 학습 및 평가\n",
    "num_epochs = 5\n",
    "for epoch in range(1, num_epochs + 1):\n",
    "    train(epoch)\n",
    "    test()"
   ]
  },
  {
   "cell_type": "code",
   "execution_count": null,
   "id": "c931060d-0605-48db-8e4a-e9db33ef1b9c",
   "metadata": {},
   "outputs": [],
   "source": []
  }
 ],
 "metadata": {
  "kernelspec": {
   "display_name": "Python [conda env:base] *",
   "language": "python",
   "name": "conda-base-py"
  },
  "language_info": {
   "codemirror_mode": {
    "name": "ipython",
    "version": 3
   },
   "file_extension": ".py",
   "mimetype": "text/x-python",
   "name": "python",
   "nbconvert_exporter": "python",
   "pygments_lexer": "ipython3",
   "version": "3.12.2"
  }
 },
 "nbformat": 4,
 "nbformat_minor": 5
}
